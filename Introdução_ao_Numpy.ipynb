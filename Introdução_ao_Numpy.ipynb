{
  "nbformat": 4,
  "nbformat_minor": 0,
  "metadata": {
    "colab": {
      "name": "Introdução ao Numpy.ipynb",
      "provenance": [],
      "collapsed_sections": [],
      "authorship_tag": "ABX9TyMq02HwRI0pCKWy+OKQwgg5",
      "include_colab_link": true
    },
    "kernelspec": {
      "display_name": "Python 3",
      "name": "python3"
    },
    "language_info": {
      "name": "python"
    }
  },
  "cells": [
    {
      "cell_type": "markdown",
      "metadata": {
        "id": "view-in-github",
        "colab_type": "text"
      },
      "source": [
        "<a href=\"https://colab.research.google.com/github/maicon-reis/outspoken-market-na-pratica/blob/main/Introdu%C3%A7%C3%A3o_ao_Numpy.ipynb\" target=\"_parent\"><img src=\"https://colab.research.google.com/assets/colab-badge.svg\" alt=\"Open In Colab\"/></a>"
      ]
    },
    {
      "cell_type": "markdown",
      "metadata": {
        "id": "YNe4Mb2JHFiD"
      },
      "source": [
        "#**NUMPY**#"
      ]
    },
    {
      "cell_type": "markdown",
      "metadata": {
        "id": "RCpPOmZOKB1r"
      },
      "source": [
        "##**Funcionalidades Básicas**"
      ]
    },
    {
      "cell_type": "markdown",
      "metadata": {
        "id": "HCvPMYVgNwvX"
      },
      "source": [
        "O Numpy é um biblioteca que permite ao usuário manipular arrays multidimensionais e com isso realizar operações de álgebra linear, cálculo numérico e outras funcionalidades avançadas na área de programação."
      ]
    },
    {
      "cell_type": "markdown",
      "metadata": {
        "id": "Y6v6ZvcvH5rb"
      },
      "source": [
        "###**1. Importando a biblioteca e Consultando a documentação**"
      ]
    },
    {
      "cell_type": "code",
      "metadata": {
        "id": "l72xoybpsPyU"
      },
      "source": [
        "# importando a biblioteca Numpy\n",
        "import numpy as np\n",
        "import numpy.doc as doc"
      ],
      "execution_count": null,
      "outputs": []
    },
    {
      "cell_type": "code",
      "metadata": {
        "id": "_6ie38R2sXUB"
      },
      "source": [
        "# Utilizando a documentação do Numpy\n",
        "help(doc)"
      ],
      "execution_count": null,
      "outputs": []
    },
    {
      "cell_type": "markdown",
      "metadata": {
        "id": "pEBSByNAIODd"
      },
      "source": [
        "Após encontrar o tópico que deseja consultar acessando ```help(doc)```, pode-se ter acesso a descrição do tópico selecionado através da sintaxe ```help(doc.<tópico>)```."
      ]
    },
    {
      "cell_type": "code",
      "metadata": {
        "id": "3BvSGKgxsq2l"
      },
      "source": [
        "# Encotrando um conteúdo específico na dacumentação do Numpy\n",
        "help(doc.structured_arrays)"
      ],
      "execution_count": null,
      "outputs": []
    },
    {
      "cell_type": "markdown",
      "metadata": {
        "id": "Fn9FPDeSI2rL"
      },
      "source": [
        "###**2. Criando um array a partir de uma lista.**"
      ]
    },
    {
      "cell_type": "markdown",
      "metadata": {
        "id": "bOl5cxOjI8pr"
      },
      "source": [
        "<p> Sim, é possível criar arrays a partir de elementos únicos, sejam inteiros, floats ou strins, mas a funcionalidade da biblioteca Numpy é melhor associada a elementos em formato de lista ou tupla.</p> <p>Dada uma lista qualquer , podemos transformá-la em array simplesmente passando essa lista como parâmetro da função array.</p>\n",
        "---\n",
        "\n"
      ]
    },
    {
      "cell_type": "code",
      "metadata": {
        "colab": {
          "base_uri": "https://localhost:8080/"
        },
        "id": "rYYSN4Qxs4Ws",
        "outputId": "995008cc-1259-4718-83ac-fd68519ccc2c"
      },
      "source": [
        "# Criando uma lista em um intervalo de 1 a 9\n",
        "l1 = list(range(1, 10))\n",
        "\n",
        "# Transformando a lista em array\n",
        "v1 = np.array(l1)\n",
        "\n",
        "# Visualizando o array\n",
        "v1"
      ],
      "execution_count": null,
      "outputs": [
        {
          "data": {
            "text/plain": [
              "array([1, 2, 3, 4, 5, 6, 7, 8, 9])"
            ]
          },
          "execution_count": 6,
          "metadata": {},
          "output_type": "execute_result"
        }
      ]
    },
    {
      "cell_type": "markdown",
      "metadata": {
        "id": "3gNX7BuGKSNy"
      },
      "source": [
        "<p>Como dito anteriormente, podemos, também, mesclar elementos dentro de um array, entre inteiros, listas, tuplas, strings, etc, para tanto, basta passar os elementos entre colchetes.</p>\n",
        "<p>Para acessar os elementos basta incluir o índice entre colchetes, como abaixo.</p>"
      ]
    },
    {
      "cell_type": "code",
      "metadata": {
        "colab": {
          "base_uri": "https://localhost:8080/"
        },
        "id": "X_tD4U8HuBaH",
        "outputId": "83e73ee3-eb84-44fb-94d3-8d61f2eca10f"
      },
      "source": [
        "# criando um array contendo um inteiro e uma lista\n",
        "v2 = np.array([100, l1])\n",
        "\n",
        "# visualizando o array\n",
        "v2"
      ],
      "execution_count": null,
      "outputs": [
        {
          "name": "stderr",
          "output_type": "stream",
          "text": [
            "/usr/local/lib/python3.7/dist-packages/ipykernel_launcher.py:2: VisibleDeprecationWarning: Creating an ndarray from ragged nested sequences (which is a list-or-tuple of lists-or-tuples-or ndarrays with different lengths or shapes) is deprecated. If you meant to do this, you must specify 'dtype=object' when creating the ndarray\n",
            "  \n"
          ]
        },
        {
          "data": {
            "text/plain": [
              "array([100, list([1, 2, 3, 4, 5, 6, 7, 8, 9])], dtype=object)"
            ]
          },
          "execution_count": 7,
          "metadata": {},
          "output_type": "execute_result"
        }
      ]
    },
    {
      "cell_type": "code",
      "metadata": {
        "colab": {
          "base_uri": "https://localhost:8080/"
        },
        "id": "CR9eVoI2uSGO",
        "outputId": "3843b4dc-d02d-461b-c54f-ad2f69aa2100"
      },
      "source": [
        "# Acessando o elemento de índice 0 (um inteiro)\n",
        "v2[0]"
      ],
      "execution_count": null,
      "outputs": [
        {
          "data": {
            "text/plain": [
              "100"
            ]
          },
          "execution_count": 8,
          "metadata": {},
          "output_type": "execute_result"
        }
      ]
    },
    {
      "cell_type": "code",
      "metadata": {
        "colab": {
          "base_uri": "https://localhost:8080/"
        },
        "id": "CO16ISusuYFX",
        "outputId": "0d3e1b1c-a704-478e-b355-57186afa571f"
      },
      "source": [
        "# Acessando o elemento de índice 1 (uma lista)\n",
        "v2[1]"
      ],
      "execution_count": null,
      "outputs": [
        {
          "data": {
            "text/plain": [
              "[1, 2, 3, 4, 5, 6, 7, 8, 9]"
            ]
          },
          "execution_count": 9,
          "metadata": {},
          "output_type": "execute_result"
        }
      ]
    },
    {
      "cell_type": "code",
      "metadata": {
        "colab": {
          "base_uri": "https://localhost:8080/"
        },
        "id": "8neurYD2ud07",
        "outputId": "f4bf393c-be38-4d90-8d4c-eb1876d12042"
      },
      "source": [
        "# Acessando o elemento de índice 2 dentro da lista (elemento de índice 1)\n",
        "v2[1][2]"
      ],
      "execution_count": null,
      "outputs": [
        {
          "data": {
            "text/plain": [
              "3"
            ]
          },
          "execution_count": 10,
          "metadata": {},
          "output_type": "execute_result"
        }
      ]
    },
    {
      "cell_type": "markdown",
      "metadata": {
        "id": "4nnxLTQDLd6H"
      },
      "source": [
        "<li><b>Modificando a forma do array</b></li>\n",
        "\n",
        "Podemos modificar o formato do array para coluna (vertical), linha (horizontal) ou matriz. Para tanto será necessário utilizar uma das funções numpy:\n",
        "<ul>\n",
        "    <li>vstack()</li>\n",
        "    <li>hstack()</li>\n",
        "    <li>reshape()</li>\n",
        "    <li>revel()</li>\n",
        "</ul>"
      ]
    },
    {
      "cell_type": "markdown",
      "metadata": {
        "id": "Vv3RE8ygAMy2"
      },
      "source": [
        "Podemos configurar um array verticalmente utilizando a função numpy ```vstack(<array>)```, passando como parâmetro da função o array que se deseja modificar a forma."
      ]
    },
    {
      "cell_type": "code",
      "metadata": {
        "colab": {
          "base_uri": "https://localhost:8080/"
        },
        "id": "jd3h6SzMugbW",
        "outputId": "41b671ad-b31f-4749-ccf7-2f0ac4f0e976"
      },
      "source": [
        "# Mudando a forma do array - vertical\n",
        "np.vstack(v2[1])"
      ],
      "execution_count": null,
      "outputs": [
        {
          "data": {
            "text/plain": [
              "array([[1],\n",
              "       [2],\n",
              "       [3],\n",
              "       [4],\n",
              "       [5],\n",
              "       [6],\n",
              "       [7],\n",
              "       [8],\n",
              "       [9]])"
            ]
          },
          "execution_count": 11,
          "metadata": {},
          "output_type": "execute_result"
        }
      ]
    },
    {
      "cell_type": "markdown",
      "metadata": {
        "id": "JRLhdZVqAh7d"
      },
      "source": [
        "De forma semelhante, podemos configurar um array horizontalmente utilizando a função numpy ```hstack(<array>)```, passando como parâmetro da função o array que se deseja modificar a forma."
      ]
    },
    {
      "cell_type": "code",
      "metadata": {
        "colab": {
          "base_uri": "https://localhost:8080/"
        },
        "id": "9MLQBzveurCD",
        "outputId": "72cf0cc2-04fb-4169-fae7-d1d66cb32ab9"
      },
      "source": [
        "# Mudando a forma do array - horizontal\n",
        "np.hstack(v2[1])"
      ],
      "execution_count": null,
      "outputs": [
        {
          "data": {
            "text/plain": [
              "array([1, 2, 3, 4, 5, 6, 7, 8, 9])"
            ]
          },
          "execution_count": 12,
          "metadata": {},
          "output_type": "execute_result"
        }
      ]
    },
    {
      "cell_type": "markdown",
      "metadata": {
        "id": "J-DoV1jkAp8K"
      },
      "source": [
        "Por outro lado, podemos transformar um array unidimensional em uma matriz (array bi-dimensional) utilizando o atributo ```reshape()```. Esse atributo receberá como parâmetro a forma (i x j) da matriz.\n",
        "\n",
        "Caso a dimensão da matriz informada não seja proporcional ao número de elementos do array, será apresentado um erro: ```ValueError```. Isso é simples multiplicação, um array com 9 elementos, por exemplo, pode ser formatada em uma matrix (3x3), uma outra com 18 elementos pode ser reformatada em uma matriz (2,9) ou (3,8).\n",
        "Observação: Para verificar se um array é uni ou bi-dimensional utiliza-se o atributo ```ndim```."
      ]
    },
    {
      "cell_type": "code",
      "metadata": {
        "id": "BKIXG1mVuxMY"
      },
      "source": [
        "# modificando um vetor para o formato matriz n x m\n",
        "v3 = v1.reshape(3,3)"
      ],
      "execution_count": null,
      "outputs": []
    },
    {
      "cell_type": "markdown",
      "metadata": {
        "id": "7p2FX0s9T9zP"
      },
      "source": [
        "Uma forma adicional de realizar essa operação de manipulação da forma do array é através da associação da função ```shape()``` ao formato pretendido. No caso do exemplo anterior, esse resultado poderia ser obtido da seguninte forma: ```v1.shape = (3, 3)```.\n",
        "\n",
        "Por fim para obter o resultado inverso, ou seja, ciar um array com uma dimensão a partir de um array bi-dimensional utilizamos a função ```ravel()```."
      ]
    },
    {
      "cell_type": "code",
      "metadata": {
        "colab": {
          "base_uri": "https://localhost:8080/"
        },
        "id": "hbJhv1nOU8ix",
        "outputId": "aa6f08ac-278f-4bbd-9450-de48389f3b1f"
      },
      "source": [
        "v1.ravel()"
      ],
      "execution_count": null,
      "outputs": [
        {
          "data": {
            "text/plain": [
              "array([1, 2, 3, 4, 5, 6, 7, 8, 9])"
            ]
          },
          "execution_count": 12,
          "metadata": {},
          "output_type": "execute_result"
        }
      ]
    },
    {
      "cell_type": "markdown",
      "metadata": {
        "id": "TNVBWNNCvewZ"
      },
      "source": [
        "###**3. Tipos de Dados**"
      ]
    },
    {
      "cell_type": "markdown",
      "metadata": {
        "id": "twgQmnRhNsXQ"
      },
      "source": [
        "É possível criar arrays de diversos tipos de dados utilizando o parâmetro nomeado ```dtype```. Igualmente é possível construir diversos tipos de arrays e matrizes (tipo especial de array multidimensional), contendo somente zeros ou 1, contendo um único número inteiro, ou até mesmo uma sequência de números , bem como criar uma matriz identidade m X n.\n",
        "\n",
        "Por padrão o tipo de dado das funções numpy é float. Para nós alterarmos o tipo do dado é necessário passá-lo no atributo nomeado ```dtype=<tipo_de_dado>```.\n",
        "\n",
        "Para verificar o tipo de elementos que compoõe o array utilizamos o atributo ```dtype```: ```<array>.dtype```."
      ]
    },
    {
      "cell_type": "code",
      "metadata": {
        "colab": {
          "base_uri": "https://localhost:8080/"
        },
        "id": "_VleiZYYu_rO",
        "outputId": "b743c466-af9d-407a-b7c4-ee261fb960e9"
      },
      "source": [
        "# criando uma matriz\n",
        "m1 = np.array([(1.5, 2, 3), (4,5,6), (3,2,1), (4,5,6)]) \n",
        "m1.dtype"
      ],
      "execution_count": null,
      "outputs": [
        {
          "data": {
            "text/plain": [
              "dtype('float64')"
            ]
          },
          "execution_count": 28,
          "metadata": {},
          "output_type": "execute_result"
        }
      ]
    },
    {
      "cell_type": "code",
      "metadata": {
        "colab": {
          "base_uri": "https://localhost:8080/"
        },
        "id": "FDNCVF3Yw38y",
        "outputId": "e8c02159-01ab-4c52-ad55-6e803f85edd2"
      },
      "source": [
        "# criando uma matriz com um tipo de dado específico\n",
        "# serve também para modificar o tipo de dado de uma matriz\n",
        "m1 = np.array([(1.5, 2, 3), (4,5,6), (3,2,1), (4,5,6)], dtype=int) \n",
        "m1.dtype"
      ],
      "execution_count": null,
      "outputs": [
        {
          "data": {
            "text/plain": [
              "dtype('int64')"
            ]
          },
          "execution_count": 29,
          "metadata": {},
          "output_type": "execute_result"
        }
      ]
    },
    {
      "cell_type": "markdown",
      "metadata": {
        "id": "dxQ-ByNVVB4O"
      },
      "source": [
        "Abaixo vamos demonstrar algumas formas de criar arrays."
      ]
    },
    {
      "cell_type": "code",
      "metadata": {
        "colab": {
          "base_uri": "https://localhost:8080/"
        },
        "id": "aqLjCl6ew-Rd",
        "outputId": "a899be1c-061c-4f35-d28d-429037ed2114"
      },
      "source": [
        "# criando uma array preenchidos com zeros\n",
        "np.zeros(10, dtype=int)"
      ],
      "execution_count": null,
      "outputs": [
        {
          "data": {
            "text/plain": [
              "array([0, 0, 0, 0, 0, 0, 0, 0, 0, 0])"
            ]
          },
          "execution_count": 23,
          "metadata": {},
          "output_type": "execute_result"
        }
      ]
    },
    {
      "cell_type": "code",
      "metadata": {
        "colab": {
          "base_uri": "https://localhost:8080/"
        },
        "id": "zZYQBBh1xdyC",
        "outputId": "a5de9c8a-9c28-4576-bacf-2cd09b0573a1"
      },
      "source": [
        "# criando um array preenchido com um número inteiro \n",
        "np.ones(5)"
      ],
      "execution_count": null,
      "outputs": [
        {
          "data": {
            "text/plain": [
              "array([1., 1., 1., 1., 1.])"
            ]
          },
          "execution_count": 24,
          "metadata": {},
          "output_type": "execute_result"
        }
      ]
    },
    {
      "cell_type": "code",
      "metadata": {
        "colab": {
          "base_uri": "https://localhost:8080/"
        },
        "id": "OacKsHP8xneE",
        "outputId": "2d151b23-31f9-48ff-f61f-1a6bee9afb7f"
      },
      "source": [
        "# criando uma matriz de dimensão 5 X 5 preenchidas com 1\n",
        "np.ones(shape=(5,5))"
      ],
      "execution_count": null,
      "outputs": [
        {
          "data": {
            "text/plain": [
              "array([[1., 1., 1., 1., 1.],\n",
              "       [1., 1., 1., 1., 1.],\n",
              "       [1., 1., 1., 1., 1.],\n",
              "       [1., 1., 1., 1., 1.],\n",
              "       [1., 1., 1., 1., 1.]])"
            ]
          },
          "execution_count": 12,
          "metadata": {},
          "output_type": "execute_result"
        }
      ]
    },
    {
      "cell_type": "code",
      "metadata": {
        "colab": {
          "base_uri": "https://localhost:8080/"
        },
        "id": "qhKmH-6BFSCK",
        "outputId": "3df2eef8-ceb2-4821-be58-7c6e7145cab2"
      },
      "source": [
        "# criando um array preenchido com um um número inteiro\n",
        "np.full(shape=7, fill_value=5)"
      ],
      "execution_count": null,
      "outputs": [
        {
          "data": {
            "text/plain": [
              "array([5, 5, 5, 5, 5, 5, 5])"
            ]
          },
          "execution_count": 3,
          "metadata": {},
          "output_type": "execute_result"
        }
      ]
    },
    {
      "cell_type": "code",
      "metadata": {
        "colab": {
          "base_uri": "https://localhost:8080/"
        },
        "id": "PNtIIzaEy2AG",
        "outputId": "8d087e8e-774b-4306-e51e-8808f274037b"
      },
      "source": [
        "# criando uma matriz com números iguais\n",
        "np.full(shape=(3,2), fill_value=2)"
      ],
      "execution_count": null,
      "outputs": [
        {
          "data": {
            "text/plain": [
              "array([[2, 2],\n",
              "       [2, 2],\n",
              "       [2, 2]])"
            ]
          },
          "execution_count": 2,
          "metadata": {},
          "output_type": "execute_result"
        }
      ]
    },
    {
      "cell_type": "code",
      "metadata": {
        "colab": {
          "base_uri": "https://localhost:8080/"
        },
        "id": "aM3uSpDyzCjs",
        "outputId": "b7cdb159-c64f-4e9d-b69a-c7cfa3ac54bf"
      },
      "source": [
        "# criando uma matriz identidade com dimensão mxn\n",
        "np.eye(5)"
      ],
      "execution_count": null,
      "outputs": [
        {
          "data": {
            "text/plain": [
              "array([[1., 0., 0., 0., 0.],\n",
              "       [0., 1., 0., 0., 0.],\n",
              "       [0., 0., 1., 0., 0.],\n",
              "       [0., 0., 0., 1., 0.],\n",
              "       [0., 0., 0., 0., 1.]])"
            ]
          },
          "execution_count": 5,
          "metadata": {},
          "output_type": "execute_result"
        }
      ]
    },
    {
      "cell_type": "markdown",
      "metadata": {
        "id": "40T0GPl3Fn-k"
      },
      "source": [
        "Também podemos criar uma matriz identidade com a função ```np.identity()```."
      ]
    },
    {
      "cell_type": "code",
      "metadata": {
        "colab": {
          "base_uri": "https://localhost:8080/"
        },
        "id": "Srafu3BtF1Hb",
        "outputId": "2544a640-a700-4a5e-977d-d89d5616fe56"
      },
      "source": [
        "np.identity(5)"
      ],
      "execution_count": null,
      "outputs": [
        {
          "data": {
            "text/plain": [
              "array([[1., 0., 0., 0., 0.],\n",
              "       [0., 1., 0., 0., 0.],\n",
              "       [0., 0., 1., 0., 0.],\n",
              "       [0., 0., 0., 1., 0.],\n",
              "       [0., 0., 0., 0., 1.]])"
            ]
          },
          "execution_count": 30,
          "metadata": {},
          "output_type": "execute_result"
        }
      ]
    },
    {
      "cell_type": "code",
      "metadata": {
        "colab": {
          "base_uri": "https://localhost:8080/"
        },
        "id": "LWAZSvU9zKEl",
        "outputId": "08642268-c8dd-49db-eef3-750325d6d8fe"
      },
      "source": [
        "# criando um array Sequencial com uma sequência definida pelo usuário\n",
        "# O terceiro parâmetro serve para estabelecer esse step ou passo que será dado\n",
        "np.arange(100, 120, 2)"
      ],
      "execution_count": null,
      "outputs": [
        {
          "data": {
            "text/plain": [
              "array([100, 102, 104, 106, 108, 110, 112, 114, 116, 118])"
            ]
          },
          "execution_count": 31,
          "metadata": {},
          "output_type": "execute_result"
        }
      ]
    },
    {
      "cell_type": "code",
      "metadata": {
        "colab": {
          "base_uri": "https://localhost:8080/"
        },
        "id": "u05onUVOzZqt",
        "outputId": "2ab4323c-59ea-4a82-b920-954f7cad13c4"
      },
      "source": [
        "# criando um array sequencial com a senquência definida pelo Numpy\n",
        "# O terceiro parâmetro indicará quantos elementos comporão o array\n",
        "np.linspace(0, 10, 9)"
      ],
      "execution_count": null,
      "outputs": [
        {
          "data": {
            "text/plain": [
              "array([ 0.  ,  1.25,  2.5 ,  3.75,  5.  ,  6.25,  7.5 ,  8.75, 10.  ])"
            ]
          },
          "execution_count": 32,
          "metadata": {},
          "output_type": "execute_result"
        }
      ]
    },
    {
      "cell_type": "markdown",
      "metadata": {
        "id": "sdn_O-nu0ntx"
      },
      "source": [
        "###**4. Criando arrays com números aleatórios**\n",
        "\n",
        "De forma semelhante ao item anterior, é possível criar arrays e matrizes com números aleatórios entre 0 e 1, com números aleatórios dentro de um intervalo estabelecido, ou ainda, que resultem em distribuições normal, uniforme, etc.\n",
        "\n",
        "Alguns parâmetros que serão utilizados nas funções abaixo:\n",
        "\n",
        "* low - Início da distrituição. Pode ser um inteiro, ou um array de inteiros;\n",
        "* high - Final da distribuiçã. Pode ser um inteiro ou um array de inteiros;\n",
        "* size - Formato de saída dos dados. Recebe um inteiro (arrays unidimensionais) ou uma tupla de inteiros (matrizes).\n",
        "* dtype - Recebe o tipo de dado desejado.\n",
        "* loc - centro da média da distribuição. Recebe float ou um array de float.\n",
        "* scale - Desvio padrão da distribuição. Deve ser um float não negativo. Quanto maior o valor de scale, mais espalhados serão os dados e consequentemente o gráfico de dispersão."
      ]
    },
    {
      "cell_type": "markdown",
      "metadata": {
        "id": "t7RG77hDK4E8"
      },
      "source": [
        "Utilizando a função numpy ```random.random()````para gerar arrays aleatórios com números do tipo float no intervalode entre 0.0 e 1.0.\n",
        "\n",
        "\n",
        "```\n",
        "# sintexe com os valores padrão\n",
        "random.random(size=None)\n",
        "```\n",
        "\n"
      ]
    },
    {
      "cell_type": "code",
      "metadata": {
        "colab": {
          "base_uri": "https://localhost:8080/"
        },
        "id": "gvGNJNumQSfu",
        "outputId": "a5248ca6-46ab-4138-a828-b83c71d7ee16"
      },
      "source": [
        "# criando uma array com números aleatórios entre 0 e 1\n",
        "np.random.random(5)"
      ],
      "execution_count": null,
      "outputs": [
        {
          "data": {
            "text/plain": [
              "array([0.69160171, 0.70565143, 0.05875412, 0.72443829, 0.016662  ])"
            ]
          },
          "execution_count": 33,
          "metadata": {},
          "output_type": "execute_result"
        }
      ]
    },
    {
      "cell_type": "code",
      "metadata": {
        "colab": {
          "base_uri": "https://localhost:8080/"
        },
        "id": "YssKpAhH0S_i",
        "outputId": "203a01d7-f0b1-4202-d41c-0331b7247e5f"
      },
      "source": [
        "# criando uma matriz 2X2 com números aleatórios entre 0 e 1\n",
        "np.random.random((2,2))"
      ],
      "execution_count": null,
      "outputs": [
        {
          "data": {
            "text/plain": [
              "array([[0.04868098, 0.63568332],\n",
              "       [0.18143628, 0.13157167]])"
            ]
          },
          "execution_count": 34,
          "metadata": {},
          "output_type": "execute_result"
        }
      ]
    },
    {
      "cell_type": "markdown",
      "metadata": {
        "id": "8DGcsWCPIfBp"
      },
      "source": [
        "Para criar aray aleatórios com números inteiros utilizamos a função numpy ```random.randint()```.\n",
        "\n",
        "```\n",
        "# sitanxe com os valores padrão\n",
        "np.random.randint(low=None, high=None, size=None, dtype=int)\n",
        "```\n",
        "\n",
        "\n"
      ]
    },
    {
      "cell_type": "code",
      "metadata": {
        "colab": {
          "base_uri": "https://localhost:8080/"
        },
        "id": "CmlSSEDZ0xYP",
        "outputId": "6e68a5bc-9972-4b6c-9b16-d7810a060470"
      },
      "source": [
        "# criando um array com números inteiros aleatórios\n",
        "np.random.randint(1, 60, size=6)"
      ],
      "execution_count": null,
      "outputs": [
        {
          "data": {
            "text/plain": [
              "array([ 7, 45, 15, 33, 36, 30])"
            ]
          },
          "execution_count": 35,
          "metadata": {},
          "output_type": "execute_result"
        }
      ]
    },
    {
      "cell_type": "markdown",
      "metadata": {
        "id": "i-O6l-FWLpxU"
      },
      "source": [
        "É possível criar arrays a partir de uma amostra de distribuição normal (Gaussiana) utilizando a função numpy ```random.normal()```.\n",
        "\n",
        "\n",
        "```\n",
        "# sintaxe com os valores padrão\n",
        "random.normal(loc=0.0, scale=1.0, size=None)\n",
        "```\n",
        "\n"
      ]
    },
    {
      "cell_type": "code",
      "metadata": {
        "colab": {
          "base_uri": "https://localhost:8080/"
        },
        "id": "zisHfPau09lS",
        "outputId": "ea3459fb-5a5a-4289-cddc-0783f61f7efa"
      },
      "source": [
        "# gerando um número aleatório da distribuição normal\n",
        "np.random.normal()"
      ],
      "execution_count": null,
      "outputs": [
        {
          "data": {
            "text/plain": [
              "-0.2610853809648868"
            ]
          },
          "execution_count": 36,
          "metadata": {},
          "output_type": "execute_result"
        }
      ]
    },
    {
      "cell_type": "markdown",
      "metadata": {
        "id": "s4B04sSCNDTF"
      },
      "source": [
        "Prosseguindo, para criar um float ou arrays de uma distribuição normal padrão utilizamos a função numpy ```random.randn()```\n",
        "\n",
        "\n",
        "```\n",
        "# sintaxe com valores padrão\n",
        "random.randn()\n",
        "```\n",
        "\n"
      ]
    },
    {
      "cell_type": "code",
      "metadata": {
        "colab": {
          "base_uri": "https://localhost:8080/"
        },
        "id": "I6GiT0rW1NG0",
        "outputId": "9fd6390a-a1b8-4c0f-c33f-0ff9d8105996"
      },
      "source": [
        "# criando um array com números aleatórios da distribuição normal\n",
        "# o parâmetro indica a quantidade de elementos do array\n",
        "np.random.randn(5)"
      ],
      "execution_count": null,
      "outputs": [
        {
          "data": {
            "text/plain": [
              "array([ 0.76829416,  0.14670127, -1.41956761, -0.02598414,  0.61093696])"
            ]
          },
          "execution_count": 41,
          "metadata": {},
          "output_type": "execute_result"
        }
      ]
    },
    {
      "cell_type": "markdown",
      "metadata": {
        "id": "civm-hF0OLIi"
      },
      "source": [
        "Por fim, caso desejemos obter um array com distribuição uniforme em um intervalo pré-determinado devemos utilizar a função numpy ```random.uniform()```.\n",
        "\n",
        "```\n",
        "# Sintaxe com valores padrão\n",
        "random.uniform(low=0.0, high=1.0, size=None)\n",
        "```\n",
        "\n"
      ]
    },
    {
      "cell_type": "code",
      "metadata": {
        "colab": {
          "base_uri": "https://localhost:8080/"
        },
        "id": "jAsgbF4a1WIB",
        "outputId": "c3a7b761-964d-434e-ee66-88ac245e2b8d"
      },
      "source": [
        "# gerando número aleatório da distribuição uniforme\n",
        "np.random.uniform()"
      ],
      "execution_count": null,
      "outputs": [
        {
          "data": {
            "text/plain": [
              "0.7991796077390386"
            ]
          },
          "execution_count": 38,
          "metadata": {},
          "output_type": "execute_result"
        }
      ]
    },
    {
      "cell_type": "code",
      "metadata": {
        "colab": {
          "base_uri": "https://localhost:8080/"
        },
        "id": "r_oOiqLt1fAB",
        "outputId": "a33c1604-ceec-46b8-830d-5b95e4bdc2e6"
      },
      "source": [
        "# criando um array com números aleatórios da distribuição uniforme\n",
        "# o parâmetro indica a quantidade de elementos do array\n",
        "np.random.uniform(size=5)"
      ],
      "execution_count": null,
      "outputs": [
        {
          "data": {
            "text/plain": [
              "array([0.25701937, 0.1143712 , 0.5393955 , 0.5027317 , 0.86446862])"
            ]
          },
          "execution_count": 39,
          "metadata": {},
          "output_type": "execute_result"
        }
      ]
    },
    {
      "cell_type": "markdown",
      "metadata": {
        "id": "t5a4UhY2RPXN"
      },
      "source": [
        "Formas de aplicação"
      ]
    },
    {
      "cell_type": "code",
      "metadata": {
        "colab": {
          "base_uri": "https://localhost:8080/"
        },
        "id": "HYq7k4cI1hu4",
        "outputId": "fa9a2a45-0c32-405c-aa57-257618eb7818"
      },
      "source": [
        "# transformando o array em matriz 4x2\n",
        "np.random.uniform(size=8).reshape((4,2))"
      ],
      "execution_count": null,
      "outputs": [
        {
          "data": {
            "text/plain": [
              "array([[0.25459936, 0.38786394],\n",
              "       [0.32382702, 0.61013556],\n",
              "       [0.99953898, 0.61306002],\n",
              "       [0.05500703, 0.66418969]])"
            ]
          },
          "execution_count": 2,
          "metadata": {},
          "output_type": "execute_result"
        }
      ]
    },
    {
      "cell_type": "code",
      "metadata": {
        "colab": {
          "base_uri": "https://localhost:8080/",
          "height": 281
        },
        "id": "TX5WMAML1zhy",
        "outputId": "b9a04cca-c1d1-432d-e532-93c6352aba7e"
      },
      "source": [
        "# criando um gráfico de distribuição a partir de um array com distribuição normal\n",
        "import matplotlib.pyplot as plt\n",
        "%matplotlib inline\n",
        "\n",
        "data = np.random.randn(5000)\n",
        "\n",
        "hx, hy, _ = plt.hist(data, bins=25, density=1, color=\"blue\")\n",
        "\n",
        "plt.ylim(0.0, max(hx)+0.05)\n",
        "plt.title(\"Números aleatórios da distribuição normal\")\n",
        "plt.grid()"
      ],
      "execution_count": null,
      "outputs": [
        {
          "data": {
            "image/png": "[encoded data removed]",
            "text/plain": [
              "<Figure size 432x288 with 1 Axes>"
            ]
          },
          "metadata": {},
          "output_type": "display_data"
        }
      ]
    },
    {
      "cell_type": "markdown",
      "metadata": {
        "id": "TLIsJ4HoEPVs"
      },
      "source": [
        "###**5. Outras Formas de Manipulação de Arrays**"
      ]
    },
    {
      "cell_type": "markdown",
      "metadata": {
        "id": "5OMXEgpHI53B"
      },
      "source": [
        "Utilizando a função sort para ordenar os elementos de um array."
      ]
    },
    {
      "cell_type": "code",
      "metadata": {
        "colab": {
          "base_uri": "https://localhost:8080/"
        },
        "id": "6azWlJh34IBe",
        "outputId": "14c9a6b5-e484-4cd5-d45e-199a0510c86c"
      },
      "source": [
        "print(\"Números inteiros aleatórios\")\n",
        "\n",
        "int_numbers = np.random.randint(1, 200, size=50)\n",
        "\n",
        "# ordenando um array\n",
        "int_numbers.sort()\n",
        "\n",
        "int_numbers"
      ],
      "execution_count": null,
      "outputs": [
        {
          "name": "stdout",
          "output_type": "stream",
          "text": [
            "Números inteiros aleatórios\n"
          ]
        },
        {
          "data": {
            "text/plain": [
              "array([  4,   7,   8,  11,  12,  13,  14,  19,  20,  27,  27,  30,  32,\n",
              "        43,  43,  47,  56,  59,  62,  64,  68,  68,  68,  81,  84,  85,\n",
              "        91,  92,  95,  98, 107, 113, 120, 122, 123, 123, 124, 125, 127,\n",
              "       128, 129, 130, 130, 131, 132, 168, 175, 187, 189, 196])"
            ]
          },
          "execution_count": 39,
          "metadata": {},
          "output_type": "execute_result"
        }
      ]
    },
    {
      "cell_type": "markdown",
      "metadata": {
        "id": "RbjvrkocJG5a"
      },
      "source": [
        "Aqui nós selecionameremos os elementos de um array com base no índice e ainda realizaremos fatiamento (slicing) dos elementos. \n",
        "\n",
        "Para selecionar um elemento de um array o fazemos com base no índice (posição do elemento), que inicia do 0. \n",
        "\n",
        "Também é possível selecionar um elemento a partir de um índice negativo, dessa forma a contagem se inicia do último elemento, que possui índice -1.\n",
        "\n",
        "Por fim, é possível selecionar múltiplos elementos, basta, para tanto passar uma lista de índices."
      ]
    },
    {
      "cell_type": "code",
      "metadata": {
        "colab": {
          "base_uri": "https://localhost:8080/"
        },
        "id": "UvGRia_pWr0f",
        "outputId": "a2f9eab4-3713-413b-e66b-bd4bf49f789b"
      },
      "source": [
        "int_numbers[2]"
      ],
      "execution_count": null,
      "outputs": [
        {
          "data": {
            "text/plain": [
              "8"
            ]
          },
          "execution_count": 40,
          "metadata": {},
          "output_type": "execute_result"
        }
      ]
    },
    {
      "cell_type": "code",
      "metadata": {
        "colab": {
          "base_uri": "https://localhost:8080/"
        },
        "id": "YAnKJNIrW6ro",
        "outputId": "44a89747-95ee-4e90-b2e5-b67cb908a436"
      },
      "source": [
        "int_numbers[-3]"
      ],
      "execution_count": null,
      "outputs": [
        {
          "data": {
            "text/plain": [
              "187"
            ]
          },
          "execution_count": 41,
          "metadata": {},
          "output_type": "execute_result"
        }
      ]
    },
    {
      "cell_type": "code",
      "metadata": {
        "colab": {
          "base_uri": "https://localhost:8080/"
        },
        "id": "FZ3oFMUlXByZ",
        "outputId": "95aec82c-ceee-4fd9-ad31-82bece0e6712"
      },
      "source": [
        "int_numbers[[0, 5]]"
      ],
      "execution_count": null,
      "outputs": [
        {
          "data": {
            "text/plain": [
              "array([ 4, 13])"
            ]
          },
          "execution_count": 42,
          "metadata": {},
          "output_type": "execute_result"
        }
      ]
    },
    {
      "cell_type": "markdown",
      "metadata": {
        "id": "CSTiMA3uXhYe"
      },
      "source": [
        "Para realizar fatiamento podemos passar dois três parâmetros separados por dois pontos. O primeiro parâmetro é o índice de início (este estará incluso no fatiamento), caso ele seja omitido, significa que o fatiamento inicia no elemento de índice 0.\n",
        "\n",
        "O segundo parâmetro é o índice final (o elemento referente a este índice ficara fora do fatiamento). Caso esse índice esteja omitido, significa que o fatiamento irá até o último elemento.\n",
        "\n",
        "Por fim, o terceiro parâmento é o passo, ou step. Caso esse parâmetro seja omitido, o passo será 1.\n",
        "\n",
        "Caso omitamos o segundo parâmetro (índice final), ou o primeiro e segundo parâmetros e relvamos incluir o step, devemos, para evitar ambiguidades duplicar o sinal de dois pontos: ```array[<init>::<step>]```."
      ]
    },
    {
      "cell_type": "code",
      "metadata": {
        "colab": {
          "base_uri": "https://localhost:8080/"
        },
        "id": "t371VGyxEmAV",
        "outputId": "b07cf2f1-95ca-4380-b5a9-1f02112c7f79"
      },
      "source": [
        "# Selecionando primerios 10 elementos\n",
        "int_numbers[:10]"
      ],
      "execution_count": null,
      "outputs": [
        {
          "data": {
            "text/plain": [
              "array([ 2,  4,  8, 12, 17, 22, 23, 25, 36, 36])"
            ]
          },
          "execution_count": 7,
          "metadata": {},
          "output_type": "execute_result"
        }
      ]
    },
    {
      "cell_type": "code",
      "metadata": {
        "colab": {
          "base_uri": "https://localhost:8080/"
        },
        "id": "3uNEC4O6E8Gy",
        "outputId": "5c613a0e-db03-47e1-b6d9-4d3147d47bbc"
      },
      "source": [
        "# Tudo o que vem depois dos 15 primeiros elementos\n",
        "int_numbers[15:]"
      ],
      "execution_count": null,
      "outputs": [
        {
          "data": {
            "text/plain": [
              "array([ 52,  60,  62,  66,  68,  69,  72,  75,  77,  79,  79,  85,  87,\n",
              "        89,  94,  96,  97, 113, 119, 120, 123, 128, 131, 146, 151, 152,\n",
              "       161, 161, 163, 176, 182, 184, 187, 195, 199])"
            ]
          },
          "execution_count": 8,
          "metadata": {},
          "output_type": "execute_result"
        }
      ]
    },
    {
      "cell_type": "code",
      "metadata": {
        "colab": {
          "base_uri": "https://localhost:8080/"
        },
        "id": "8JxKw1LYFDw6",
        "outputId": "d2fd5e5e-3cf3-4a14-bd3d-7668a5a49be6"
      },
      "source": [
        "# Selecionando os elementos de 2 em 2\n",
        "int_numbers[::2]"
      ],
      "execution_count": null,
      "outputs": [
        {
          "data": {
            "text/plain": [
              "array([  2,   8,  17,  23,  36,  42,  43,  50,  60,  66,  69,  75,  79,\n",
              "        85,  89,  96, 113, 120, 128, 146, 152, 161, 176, 184, 195])"
            ]
          },
          "execution_count": 9,
          "metadata": {},
          "output_type": "execute_result"
        }
      ]
    },
    {
      "cell_type": "markdown",
      "metadata": {
        "id": "X_PAMVEMJamD"
      },
      "source": [
        "Desde que estejam ordenados pela função sort, para ordená-los agora de modo decrescente basta ordenar todos os elementos com o step -1."
      ]
    },
    {
      "cell_type": "code",
      "metadata": {
        "colab": {
          "base_uri": "https://localhost:8080/"
        },
        "id": "o5vgsph-FYkM",
        "outputId": "28b2d80d-36a9-40e5-8540-a4b5855fe243"
      },
      "source": [
        "# sort decrescente\n",
        "int_numbers[::-1]"
      ],
      "execution_count": null,
      "outputs": [
        {
          "data": {
            "text/plain": [
              "array([199, 195, 187, 184, 182, 176, 163, 161, 161, 152, 151, 146, 131,\n",
              "       128, 123, 120, 119, 113,  97,  96,  94,  89,  87,  85,  79,  79,\n",
              "        77,  75,  72,  69,  68,  66,  62,  60,  52,  50,  46,  43,  43,\n",
              "        42,  36,  36,  25,  23,  22,  17,  12,   8,   4,   2])"
            ]
          },
          "execution_count": 12,
          "metadata": {},
          "output_type": "execute_result"
        }
      ]
    },
    {
      "cell_type": "code",
      "metadata": {
        "colab": {
          "base_uri": "https://localhost:8080/"
        },
        "id": "qT2xPmn9FexQ",
        "outputId": "3c2b9e11-f992-425b-cffe-f9365afe5946"
      },
      "source": [
        "# Selecionando os elementos de 2 em 2 a partir de um índice específio\n",
        "int_numbers[5::2]"
      ],
      "execution_count": null,
      "outputs": [
        {
          "data": {
            "text/plain": [
              "array([ 22,  25,  36,  43,  46,  52,  62,  68,  72,  77,  79,  87,  94,\n",
              "        97, 119, 123, 131, 151, 161, 163, 182, 187, 199])"
            ]
          },
          "execution_count": 11,
          "metadata": {},
          "output_type": "execute_result"
        }
      ]
    },
    {
      "cell_type": "markdown",
      "metadata": {
        "id": "KA_c71qKJsdb"
      },
      "source": [
        "**Aplicabilidade prática**\n",
        "\n",
        "Sabemos que exitem funções específicas para o cálculo da média móvel, porém a título de exercício podemos criar uma função que recebe um array e calcula uma média móvel de n períodos.\n"
      ]
    },
    {
      "cell_type": "code",
      "metadata": {
        "id": "DN9CGCCvF0cR"
      },
      "source": [
        "# calculando a média móvel de uma sequência de preços\n",
        "def media_movel(array, n=5):\n",
        "    valores = np.cumsum(array, dtype=float)\n",
        "    valores[n:] = valores[n:] - valores[:-n]\n",
        "    return valores[n-1:] / n"
      ],
      "execution_count": null,
      "outputs": []
    },
    {
      "cell_type": "code",
      "metadata": {
        "id": "LP1EDOfqLCBl"
      },
      "source": [
        "# configurando o período da média móvel\n",
        "p = 8"
      ],
      "execution_count": null,
      "outputs": []
    },
    {
      "cell_type": "code",
      "metadata": {
        "id": "jLNHs3LWGjUp"
      },
      "source": [
        "# Simulando um array de preços\n",
        "precos = np.random.uniform(100, 250, size=100).round(2)\n",
        "\n",
        "# ordenando o array par ter um aspecto crescente\n",
        "precos.sort()\n",
        "\n",
        "# calculando a média móvel\n",
        "mm = media_movel(precos, n=p).round(2)"
      ],
      "execution_count": null,
      "outputs": []
    },
    {
      "cell_type": "code",
      "metadata": {
        "colab": {
          "base_uri": "https://localhost:8080/",
          "height": 295
        },
        "id": "R2ZA1j17HFr_",
        "outputId": "d35daa91-c9c3-43cb-ce1a-437f97a734f8"
      },
      "source": [
        "# criando gráfico com as informações\n",
        "import matplotlib.pyplot as plt\n",
        "%matplotlib inline\n",
        "\n",
        "plt.plot(range(p, p+len(mm)), mm, label=\"Média Móvel\")\n",
        "plt.plot(precos, label='Preços')\n",
        "plt.title(\"Média Móvel de {} períodos da série simulada\".format(p))\n",
        "plt.xlabel(\"Período\")\n",
        "plt.ylabel(\"Preço\")\n",
        "plt.grid()\n",
        "plt.legend()\n",
        "plt.show()"
      ],
      "execution_count": null,
      "outputs": [
        {
          "data": {
            "image/png": "[encoded data removed]",
            "text/plain": [
              "<Figure size 432x288 with 1 Axes>"
            ]
          },
          "metadata": {},
          "output_type": "display_data"
        }
      ]
    },
    {
      "cell_type": "markdown",
      "metadata": {
        "id": "ycBYFlCKLxQh"
      },
      "source": [
        "##**Funcionalidades Avançadas**"
      ]
    },
    {
      "cell_type": "markdown",
      "metadata": {
        "id": "Gk39KRQnKgBK"
      },
      "source": [
        "###**6. Concatenando arrays**"
      ]
    },
    {
      "cell_type": "markdown",
      "metadata": {
        "id": "DOPK8G8wMNlp"
      },
      "source": [
        "É possível concatenar array e matrizes, para essa tanto utiliza-se a função ```concatenate([])``` passando como parâmetro os array que serão concatenados. \n",
        "\n",
        "No caso das matrizes é necessário atentar que os arrays passados devem ter os mesmos números de dimensões, caso contrário apresentará um ```ValueError```.\n",
        "\n",
        "Para concatenar as matrizes por linhas, é necessário passar um parâmetro nomeado ```axis=1```."
      ]
    },
    {
      "cell_type": "code",
      "metadata": {
        "colab": {
          "base_uri": "https://localhost:8080/"
        },
        "id": "sw7ctCHBH7WG",
        "outputId": "3f2be856-989f-4db6-b423-87ff84a2e4e5"
      },
      "source": [
        "# Concatenando arrays\n",
        "a1 = np.array([10, 20, 30, 40])\n",
        "a2 = np.array([7, 8, 9, 10])\n",
        "a3 = np.array([1, 2, 3, 4])\n",
        "\n",
        "a4 = np.concatenate([a1, a2, a3])\n",
        "a4"
      ],
      "execution_count": null,
      "outputs": [
        {
          "data": {
            "text/plain": [
              "array([10, 20, 30, 40,  7,  8,  9, 10,  1,  2,  3,  4])"
            ]
          },
          "execution_count": 56,
          "metadata": {},
          "output_type": "execute_result"
        }
      ]
    },
    {
      "cell_type": "code",
      "metadata": {
        "colab": {
          "base_uri": "https://localhost:8080/"
        },
        "id": "ORbAksFwLCKF",
        "outputId": "9c0fed28-6ead-48b9-bc7a-8da6fa16f89e"
      },
      "source": [
        "# Cibcatebabdo arrays multidimensionais (matrizes)\n",
        "m1 = np.array([[10, 20], [30, 40]])\n",
        "m2 = np.array([[7, 8], [9, 10]])\n",
        "m3 = np.array([[1, 2], [3, 4]])\n",
        "\n",
        "m4 = np.concatenate([m1, m2, m3])\n",
        "m4"
      ],
      "execution_count": null,
      "outputs": [
        {
          "data": {
            "text/plain": [
              "array([[10, 20],\n",
              "       [30, 40],\n",
              "       [ 7,  8],\n",
              "       [ 9, 10],\n",
              "       [ 1,  2],\n",
              "       [ 3,  4]])"
            ]
          },
          "execution_count": 36,
          "metadata": {},
          "output_type": "execute_result"
        }
      ]
    },
    {
      "cell_type": "code",
      "metadata": {
        "colab": {
          "base_uri": "https://localhost:8080/"
        },
        "id": "W6mmXkSgK2Qs",
        "outputId": "45fd73e2-3136-407b-9886-ee0f5ce00a67"
      },
      "source": [
        "# É possível fazer a cncatenação por linhas,\n",
        "np.concatenate([m1, m2, m3], axis=1)"
      ],
      "execution_count": null,
      "outputs": [
        {
          "data": {
            "text/plain": [
              "array([[10, 20,  7,  8,  1,  2],\n",
              "       [30, 40,  9, 10,  3,  4]])"
            ]
          },
          "execution_count": 37,
          "metadata": {},
          "output_type": "execute_result"
        }
      ]
    },
    {
      "cell_type": "markdown",
      "metadata": {
        "id": "s7IZBbLJosB_"
      },
      "source": [
        "###**7. Adicionando e Removendo elementos no Numpy**"
      ]
    },
    {
      "cell_type": "markdown",
      "metadata": {
        "id": "yST5NYLyN1Gc"
      },
      "source": [
        "Para adicionar elementos em um array utiliza-se as funções ```append()```, caso se deseje adicionar um elemento no final do array, e a função ```insert()``` caso se deseje incluir um elemento em uma posição específica, conforme sintaze descrita abaixo.\n",
        "\n",
        "Já para deletar um elemento de um array deve-se usar a função ```delete()``` informando o índice cujo elemento deseja-se deletar.\n"
      ]
    },
    {
      "cell_type": "code",
      "metadata": {
        "colab": {
          "base_uri": "https://localhost:8080/"
        },
        "id": "M5kr13OHLrp0",
        "outputId": "70cc8b29-1976-4938-ee7e-eb5fc0a20496"
      },
      "source": [
        "# criando um array de strings\n",
        "lista_produtos = np.array(['Notebook', 'Microfone', 'Game'])\n",
        "\n",
        "# visualizando o array\n",
        "lista_produtos"
      ],
      "execution_count": null,
      "outputs": [
        {
          "data": {
            "text/plain": [
              "array(['Notebook', 'Microfone', 'Game'], dtype='<U9')"
            ]
          },
          "execution_count": 38,
          "metadata": {},
          "output_type": "execute_result"
        }
      ]
    },
    {
      "cell_type": "code",
      "metadata": {
        "colab": {
          "base_uri": "https://localhost:8080/"
        },
        "id": "mypEh8DcpNG1",
        "outputId": "a6c7885a-5af6-4ab5-fdd6-588341fd9705"
      },
      "source": [
        "# Adicionando um novo item (no final do array)\n",
        "lista_produtos = np.append(lista_produtos, \"Livro\")\n",
        "lista_produtos"
      ],
      "execution_count": null,
      "outputs": [
        {
          "data": {
            "text/plain": [
              "array(['Notebook', 'Microfone', 'Game', 'Livro'], dtype='<U9')"
            ]
          },
          "execution_count": 39,
          "metadata": {},
          "output_type": "execute_result"
        }
      ]
    },
    {
      "cell_type": "code",
      "metadata": {
        "colab": {
          "base_uri": "https://localhost:8080/"
        },
        "id": "Wwu3bXeQqsFN",
        "outputId": "54da181a-477c-470a-9eef-20cea70ff3c0"
      },
      "source": [
        "# Insert adiciona um novo itel na posição desejada\n",
        "lista_produtos = np.insert(lista_produtos, 1, 'Celular')\n",
        "lista_produtos"
      ],
      "execution_count": null,
      "outputs": [
        {
          "data": {
            "text/plain": [
              "array(['Notebook', 'Celular', 'Microfone', 'Game', 'Livro'], dtype='<U9')"
            ]
          },
          "execution_count": 40,
          "metadata": {},
          "output_type": "execute_result"
        }
      ]
    },
    {
      "cell_type": "code",
      "metadata": {
        "colab": {
          "base_uri": "https://localhost:8080/"
        },
        "id": "UwlTHNP9sTdo",
        "outputId": "e2d609ff-f90c-4080-e9a4-c1067e2abae8"
      },
      "source": [
        "# Remover um elemento\n",
        "lista_produtos = np.delete(lista_produtos, [0])\n",
        "lista_produtos"
      ],
      "execution_count": null,
      "outputs": [
        {
          "data": {
            "text/plain": [
              "array(['Celular', 'Microfone', 'Game', 'Livro'], dtype='<U9')"
            ]
          },
          "execution_count": 41,
          "metadata": {},
          "output_type": "execute_result"
        }
      ]
    },
    {
      "cell_type": "markdown",
      "metadata": {
        "id": "eH_-2Lk7XTGi"
      },
      "source": [
        "###**8. Operações Aritméticas com Numpy**"
      ]
    },
    {
      "cell_type": "markdown",
      "metadata": {
        "id": "_IISzH6vanRe"
      },
      "source": [
        "Trabalharemos com as chamadas funções universais, ou simplementes unfunc."
      ]
    },
    {
      "cell_type": "code",
      "metadata": {
        "colab": {
          "base_uri": "https://localhost:8080/"
        },
        "id": "CCc8MxJdvAOG",
        "outputId": "d06821f0-3e8d-4bdd-b329-4c9bf762085d"
      },
      "source": [
        "# Operações Aritméticas\n",
        "\n",
        "ops = np.arange(2)\n",
        "\n",
        "print(\"Seu array\")\n",
        "print(\"ops = {}\".format(ops))\n",
        "print()\n",
        "print(\"Adição\")\n",
        "print(\"ops + 2 = {}\".format(ops + 2))\n",
        "print(\"Método add = {}\".format(np.add(ops, 2)))\n",
        "print()\n",
        "print(\"Subtração\")\n",
        "print(\"ops - 2 = {}\".format(ops - 2))\n",
        "print(\"Método subtract = {}\".format(np.subtract(ops, 2)))\n",
        "print()\n",
        "print(\"Multiplicação\")\n",
        "print(\"ops * 2 = {}\".format(ops * 2))\n",
        "print(\"Método multiply = {}\".format(np.multiply(ops, 2)))\n",
        "print()\n",
        "print(\"Divisão\")\n",
        "print(\"ops / 2 = {}\".format(ops / 2))\n",
        "print(\"Método divide = {}\".format(np.divide(ops, 2)))\n",
        "print()\n",
        "print(\"Inteiro da divisão\")\n",
        "print(\"ops // 2 = {}\".format(ops // 2))\n",
        "print()\n",
        "print(\"Negativo\")\n",
        "print(\"-x = {}\".format(-ops))\n",
        "print()\n",
        "print(\"Exponenciação\")\n",
        "print(\"ops ** 2 = {}\".format(ops ** 2))\n",
        "print()\n",
        "print(\"Radiciação\")\n",
        "print(\"srt(ops) = {}\".format(np.sqrt(ops)))\n",
        "print()\n",
        "print(\"Módulo\")\n",
        "print(\"ops % 2 = {}\".format(ops % 2))\n",
        "print()\n",
        "print(\"e elevado a \")\n",
        "print(\"e^a = {}\".format(np.exp(ops)))\n",
        "print()\n",
        "print(\"2 elevado a \")\n",
        "print(\"2^a = {}\".format(np.power(2,ops)))\n",
        "print()\n",
        "print(\"Seno\")\n",
        "print(\"Seno de ops= {}\".format(np.sin(ops)))\n",
        "print()\n",
        "print(\"Cosseno\")\n",
        "print(\"Cosseno de ops= {}\".format(np.cos(ops)))\n",
        "print()\n",
        "print(\"Tangente\")\n",
        "print(\"Tangente de ops= {}\".format(np.tan(ops)))\n",
        "print()\n",
        "print(\"Logaritmo Natural\")\n",
        "print(\" ln = {}\".format(np.log(ops)))\n",
        "print()\n",
        "print(\"Logaritmo base 2\")\n",
        "print(\" log2 = {}\".format(np.log2(ops)))\n",
        "print()\n",
        "print(\"Logaritmo base 10\")\n",
        "print(\" log10 = {}\".format(np.log10(ops)))"
      ],
      "execution_count": null,
      "outputs": [
        {
          "name": "stdout",
          "output_type": "stream",
          "text": [
            "Seu array\n",
            "ops = [0 1]\n",
            "\n",
            "Adição\n",
            "ops + 2 = [2 3]\n",
            "Método add = [2 3]\n",
            "\n",
            "Subtração\n",
            "ops - 2 = [-2 -1]\n",
            "Método subtract = [-2 -1]\n",
            "\n",
            "Multiplicação\n",
            "ops * 2 = [0 2]\n",
            "Método multiply = [0 2]\n",
            "\n",
            "Divisão\n",
            "ops / 2 = [0.  0.5]\n",
            "Método divide = [0.  0.5]\n",
            "\n",
            "Inteiro da divisão\n",
            "ops // 2 = [0 0]\n",
            "\n",
            "Negativo\n",
            "-x = [ 0 -1]\n",
            "\n",
            "Exponenciação\n",
            "ops ** 2 = [0 1]\n",
            "\n",
            "Radiciação\n",
            "srt(ops) = [0. 1.]\n",
            "\n",
            "Módulo\n",
            "ops % 2 = [0 1]\n",
            "\n",
            "e elevado a \n",
            "e^a = [1.         2.71828183]\n",
            "\n",
            "2 elevado a \n",
            "2^a = [1 2]\n",
            "\n",
            "Seno\n",
            "Seno de ops= [0.         0.84147098]\n",
            "\n",
            "Cosseno\n",
            "Cosseno de ops= [1.         0.54030231]\n",
            "\n",
            "Tangente\n",
            "Tangente de ops= [0.         1.55740772]\n",
            "\n",
            "Logaritmo Natural\n",
            " ln = [-inf   0.]\n",
            "\n",
            "Logaritmo base 2\n",
            " log2 = [-inf   0.]\n",
            "\n",
            "Logaritmo base 10\n",
            " log10 = [-inf   0.]\n"
          ]
        },
        {
          "name": "stderr",
          "output_type": "stream",
          "text": [
            "/usr/local/lib/python3.7/dist-packages/ipykernel_launcher.py:55: RuntimeWarning: divide by zero encountered in log\n",
            "/usr/local/lib/python3.7/dist-packages/ipykernel_launcher.py:58: RuntimeWarning: divide by zero encountered in log2\n",
            "/usr/local/lib/python3.7/dist-packages/ipykernel_launcher.py:61: RuntimeWarning: divide by zero encountered in log10\n"
          ]
        }
      ]
    },
    {
      "cell_type": "markdown",
      "metadata": {
        "id": "y6dn0TejLoOX"
      },
      "source": [
        "###**9. Carregando e salvando um arquivo com numpy**"
      ]
    },
    {
      "cell_type": "markdown",
      "metadata": {
        "id": "6lVy2uVLPzuo"
      },
      "source": [
        "**Carregando o arquivo**"
      ]
    },
    {
      "cell_type": "code",
      "metadata": {
        "colab": {
          "resources": {
            "http://localhost:8080/nbextensions/google.colab/files.js": {
              "data": "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",
              "headers": [
                [
                  "content-type",
                  "application/javascript"
                ]
              ],
              "ok": true,
              "status": 200,
              "status_text": ""
            }
          },
          "base_uri": "https://localhost:8080/",
          "height": 72
        },
        "id": "vWmVeEwGlU93",
        "outputId": "d63c31b9-b899-48c1-8739-d78d50e662aa"
      },
      "source": [
        "from google.colab import files\n",
        "uploaded = files.upload()"
      ],
      "execution_count": null,
      "outputs": [
        {
          "data": {
            "text/html": [
              "\n",
              "     <input type=\"file\" id=\"files-174d9bd1-5aa3-488d-a3a8-d09d6350651f\" name=\"files[]\" multiple disabled\n",
              "        style=\"border:none\" />\n",
              "     <output id=\"result-174d9bd1-5aa3-488d-a3a8-d09d6350651f\">\n",
              "      Upload widget is only available when the cell has been executed in the\n",
              "      current browser session. Please rerun this cell to enable.\n",
              "      </output>\n",
              "      <script src=\"/nbextensions/google.colab/files.js\"></script> "
            ],
            "text/plain": [
              "<IPython.core.display.HTML object>"
            ]
          },
          "metadata": {},
          "output_type": "display_data"
        },
        {
          "name": "stdout",
          "output_type": "stream",
          "text": [
            "Saving ibov_2019-2021.csv to ibov_2019-2021.csv\n"
          ]
        }
      ]
    },
    {
      "cell_type": "code",
      "metadata": {
        "id": "-ICMndWbP2Ro"
      },
      "source": [
        "# carregando o arquivo txt\n",
        "np.loadtxt(\"nome_do_arquivo.txt\")"
      ],
      "execution_count": null,
      "outputs": []
    },
    {
      "cell_type": "code",
      "metadata": {
        "id": "liV9CiqpP_4s"
      },
      "source": [
        "#carregando o arquivo em csv\n",
        "ibov = np.genfromtxt(\"ibov_2019-2021.csv\", delimiter=\";\")"
      ],
      "execution_count": null,
      "outputs": []
    },
    {
      "cell_type": "markdown",
      "metadata": {
        "id": "fWxarxNhQZzC"
      },
      "source": [
        "**Salvando o arquivo em disco**"
      ]
    },
    {
      "cell_type": "code",
      "metadata": {
        "id": "MfyjnVxttskh"
      },
      "source": [
        "# Salvando o array em um arquivo no disco\n",
        "np.savetxt(\"ibov_2019-2020.csv\", ibov, delimiter=\";\")"
      ],
      "execution_count": null,
      "outputs": []
    },
    {
      "cell_type": "markdown",
      "metadata": {
        "id": "mYUQ5D_TQgN1"
      },
      "source": [
        "**Manipulando o arquivo importado**"
      ]
    },
    {
      "cell_type": "code",
      "metadata": {
        "colab": {
          "base_uri": "https://localhost:8080/"
        },
        "id": "qEMaeHSiuTEi",
        "outputId": "22c086a8-b518-4530-9c3e-3144573ab7cd"
      },
      "source": [
        "# Investigando o seu array\n",
        "print(\"shape: {}\".format(ibov.shape))\n",
        "print(\"len: {}\".format(len(ibov)))\n",
        "print(\"ndim: {}\".format(ibov.ndim))\n",
        "print(\"size: {}\".format(ibov.size))\n",
        "print(\"dtype: {}\".format(ibov.dtype))"
      ],
      "execution_count": null,
      "outputs": [
        {
          "name": "stdout",
          "output_type": "stream",
          "text": [
            "shape: (674,)\n",
            "len: 674\n",
            "ndim: 1\n",
            "size: 674\n",
            "dtype: float64\n"
          ]
        }
      ]
    },
    {
      "cell_type": "markdown",
      "metadata": {
        "id": "hfYwfQdd2DFU"
      },
      "source": [
        "###**10. Operações dentro do array**"
      ]
    },
    {
      "cell_type": "markdown",
      "metadata": {
        "id": "Zr2ElTF-aT4l"
      },
      "source": [
        "As operações com arrays resultam em um número inteiro ou float."
      ]
    },
    {
      "cell_type": "code",
      "metadata": {
        "colab": {
          "background_save": true,
          "base_uri": "https://localhost:8080/"
        },
        "id": "So45KSjm2FuS",
        "outputId": "52b2eead-baae-414e-a233-1e3a56b27e9d"
      },
      "source": [
        "print(\"Soma todos os elementos: {}\".format(ibov.sum()))\n",
        "print()\n",
        "print(\"Valor Mínimo de todos os elementos: {}\".format(ibov.min()))\n",
        "print()\n",
        "print(\"Valor Máximo de todos os elementos: {}\".format(ibov.max()))\n",
        "print()\n",
        "print(\"Valor médio de todos os elementos: {}\".format(ibov.mean()))\n",
        "print()\n",
        "print(\"Médiana de todos os elementos: {}\".format(np.median(ibov)))\n",
        "print()\n",
        "print(\"Desvio Padrãode todos os elementos: {}\".format(np.std(ibov)))"
      ],
      "execution_count": null,
      "outputs": [
        {
          "ename": "NameError",
          "evalue": "ignored",
          "output_type": "error",
          "traceback": [
            "\u001b[0;31m---------------------------------------------------------------------------\u001b[0m",
            "\u001b[0;31mNameError\u001b[0m                                 Traceback (most recent call last)",
            "\u001b[0;32m<ipython-input-48-2b9c63f35fe1>\u001b[0m in \u001b[0;36m<module>\u001b[0;34m()\u001b[0m\n\u001b[0;32m----> 1\u001b[0;31m \u001b[0mprint\u001b[0m\u001b[0;34m(\u001b[0m\u001b[0;34m\"Soma todos os elementos: {}\"\u001b[0m\u001b[0;34m.\u001b[0m\u001b[0mformat\u001b[0m\u001b[0;34m(\u001b[0m\u001b[0mibov\u001b[0m\u001b[0;34m.\u001b[0m\u001b[0msum\u001b[0m\u001b[0;34m(\u001b[0m\u001b[0;34m)\u001b[0m\u001b[0;34m)\u001b[0m\u001b[0;34m)\u001b[0m\u001b[0;34m\u001b[0m\u001b[0;34m\u001b[0m\u001b[0m\n\u001b[0m\u001b[1;32m      2\u001b[0m \u001b[0mprint\u001b[0m\u001b[0;34m(\u001b[0m\u001b[0;34m)\u001b[0m\u001b[0;34m\u001b[0m\u001b[0;34m\u001b[0m\u001b[0m\n\u001b[1;32m      3\u001b[0m \u001b[0mprint\u001b[0m\u001b[0;34m(\u001b[0m\u001b[0;34m\"Valor Mínimo de todos os elementos: {}\"\u001b[0m\u001b[0;34m.\u001b[0m\u001b[0mformat\u001b[0m\u001b[0;34m(\u001b[0m\u001b[0mibov\u001b[0m\u001b[0;34m.\u001b[0m\u001b[0mmin\u001b[0m\u001b[0;34m(\u001b[0m\u001b[0;34m)\u001b[0m\u001b[0;34m)\u001b[0m\u001b[0;34m)\u001b[0m\u001b[0;34m\u001b[0m\u001b[0;34m\u001b[0m\u001b[0m\n\u001b[1;32m      4\u001b[0m \u001b[0mprint\u001b[0m\u001b[0;34m(\u001b[0m\u001b[0;34m)\u001b[0m\u001b[0;34m\u001b[0m\u001b[0;34m\u001b[0m\u001b[0m\n\u001b[1;32m      5\u001b[0m \u001b[0mprint\u001b[0m\u001b[0;34m(\u001b[0m\u001b[0;34m\"Valor Máximo de todos os elementos: {}\"\u001b[0m\u001b[0;34m.\u001b[0m\u001b[0mformat\u001b[0m\u001b[0;34m(\u001b[0m\u001b[0mibov\u001b[0m\u001b[0;34m.\u001b[0m\u001b[0mmax\u001b[0m\u001b[0;34m(\u001b[0m\u001b[0;34m)\u001b[0m\u001b[0;34m)\u001b[0m\u001b[0;34m)\u001b[0m\u001b[0;34m\u001b[0m\u001b[0;34m\u001b[0m\u001b[0m\n",
            "\u001b[0;31mNameError\u001b[0m: name 'ibov' is not defined"
          ]
        }
      ]
    },
    {
      "cell_type": "markdown",
      "metadata": {
        "id": "He2KIgZ63hNM"
      },
      "source": [
        "###**8. Comparações lógicas**"
      ]
    },
    {
      "cell_type": "markdown",
      "metadata": {
        "id": "T58mXOhMYMen"
      },
      "source": [
        "É possível realizar operações lógicas com arrays, tais operações retornarão booleanos."
      ]
    },
    {
      "cell_type": "code",
      "metadata": {
        "colab": {
          "base_uri": "https://localhost:8080/"
        },
        "id": "llWNRU193kNs",
        "outputId": "77cdf8bd-dfa7-45bf-aa02-3c6ec0d6a65f"
      },
      "source": [
        "ibov > ibov.mean()"
      ],
      "execution_count": null,
      "outputs": [
        {
          "data": {
            "text/plain": [
              "array([False, False, False, False, False, False, False, False, False,\n",
              "       False, False, False, False, False, False, False, False, False,\n",
              "       False, False, False, False, False, False, False, False, False,\n",
              "       False, False, False, False, False, False, False, False, False,\n",
              "       False, False, False, False, False, False, False, False, False,\n",
              "       False, False, False, False, False, False, False, False, False,\n",
              "       False, False, False, False, False, False, False, False, False,\n",
              "       False, False, False, False, False, False, False, False, False,\n",
              "       False, False, False, False, False, False, False, False, False,\n",
              "       False, False, False, False, False, False, False, False, False,\n",
              "       False, False, False, False, False, False, False, False, False,\n",
              "       False, False, False, False, False, False, False, False, False,\n",
              "       False, False, False, False, False, False, False, False, False,\n",
              "       False, False, False, False, False, False, False, False, False,\n",
              "       False,  True, False, False, False, False, False, False, False,\n",
              "       False, False, False, False, False, False, False, False, False,\n",
              "       False, False, False, False, False, False, False, False, False,\n",
              "       False, False, False, False, False, False, False, False, False,\n",
              "       False, False, False, False, False, False, False, False, False,\n",
              "       False, False, False, False, False, False, False, False, False,\n",
              "       False, False, False,  True, False, False, False, False, False,\n",
              "       False, False, False, False, False, False, False, False,  True,\n",
              "       False, False,  True,  True,  True,  True,  True,  True,  True,\n",
              "        True,  True,  True,  True,  True,  True,  True,  True,  True,\n",
              "        True,  True,  True,  True,  True,  True,  True,  True,  True,\n",
              "        True,  True,  True,  True,  True,  True,  True,  True,  True,\n",
              "        True,  True,  True,  True,  True,  True,  True,  True,  True,\n",
              "        True,  True,  True,  True,  True,  True,  True,  True,  True,\n",
              "        True,  True,  True,  True,  True,  True,  True,  True,  True,\n",
              "        True,  True,  True,  True,  True,  True,  True,  True,  True,\n",
              "        True,  True,  True,  True,  True,  True,  True,  True,  True,\n",
              "        True,  True,  True,  True,  True, False, False,  True,  True,\n",
              "        True, False, False, False, False, False, False, False, False,\n",
              "       False, False, False, False, False, False, False, False, False,\n",
              "       False, False, False, False, False, False, False, False, False,\n",
              "       False, False, False, False, False, False, False, False, False,\n",
              "       False, False, False, False, False, False, False, False, False,\n",
              "       False, False, False, False, False, False, False, False, False,\n",
              "       False, False, False, False, False, False, False, False, False,\n",
              "       False, False, False, False, False, False, False, False, False,\n",
              "       False, False, False, False, False, False, False, False, False,\n",
              "       False, False, False, False, False, False, False, False, False,\n",
              "       False, False, False, False, False, False, False, False, False,\n",
              "       False, False,  True, False, False, False, False, False, False,\n",
              "       False, False, False, False, False, False, False, False, False,\n",
              "       False, False, False, False, False, False, False, False, False,\n",
              "       False, False, False, False, False, False, False, False, False,\n",
              "       False, False, False, False, False, False, False, False, False,\n",
              "       False, False, False, False, False, False, False, False, False,\n",
              "       False, False, False, False, False, False, False, False, False,\n",
              "       False, False, False, False, False, False, False, False, False,\n",
              "       False,  True, False, False, False,  True,  True,  True,  True,\n",
              "        True,  True,  True,  True,  True,  True,  True,  True,  True,\n",
              "        True,  True,  True,  True,  True,  True,  True,  True,  True,\n",
              "        True,  True,  True,  True,  True,  True,  True,  True,  True,\n",
              "        True,  True,  True,  True,  True,  True,  True,  True,  True,\n",
              "        True,  True,  True,  True,  True,  True,  True,  True,  True,\n",
              "        True,  True,  True,  True,  True,  True,  True,  True,  True,\n",
              "        True,  True,  True,  True,  True,  True,  True,  True,  True,\n",
              "        True,  True,  True,  True,  True,  True,  True,  True,  True,\n",
              "        True,  True,  True,  True,  True,  True,  True,  True,  True,\n",
              "        True,  True,  True,  True,  True,  True,  True,  True,  True,\n",
              "        True,  True,  True,  True,  True,  True,  True,  True,  True,\n",
              "        True,  True,  True,  True,  True,  True,  True,  True,  True,\n",
              "        True,  True,  True,  True,  True,  True,  True,  True,  True,\n",
              "        True,  True,  True,  True,  True,  True,  True,  True,  True,\n",
              "        True,  True,  True,  True,  True,  True,  True,  True,  True,\n",
              "        True,  True,  True,  True,  True,  True,  True,  True,  True,\n",
              "        True,  True,  True,  True,  True,  True,  True,  True,  True,\n",
              "        True,  True,  True,  True,  True,  True,  True,  True,  True,\n",
              "        True,  True,  True,  True,  True,  True,  True,  True,  True,\n",
              "        True,  True,  True,  True,  True,  True,  True,  True,  True,\n",
              "        True,  True,  True,  True,  True,  True,  True,  True,  True,\n",
              "        True,  True,  True,  True,  True,  True,  True,  True,  True,\n",
              "        True,  True,  True,  True,  True,  True,  True,  True])"
            ]
          },
          "execution_count": 13,
          "metadata": {},
          "output_type": "execute_result"
        }
      ]
    },
    {
      "cell_type": "code",
      "metadata": {
        "colab": {
          "base_uri": "https://localhost:8080/"
        },
        "id": "45DDANYF3m64",
        "outputId": "58ac7304-7742-4b78-fde7-4a67be9e5546"
      },
      "source": [
        "ibov > (ibov.mean() + np.std(ibov))"
      ],
      "execution_count": null,
      "outputs": [
        {
          "data": {
            "text/plain": [
              "array([False, False, False, False, False, False, False, False, False,\n",
              "       False, False, False, False, False, False, False, False, False,\n",
              "       False, False, False, False, False, False, False, False, False,\n",
              "       False, False, False, False, False, False, False, False, False,\n",
              "       False, False, False, False, False, False, False, False, False,\n",
              "       False, False, False, False, False, False, False, False, False,\n",
              "       False, False, False, False, False, False, False, False, False,\n",
              "       False, False, False, False, False, False, False, False, False,\n",
              "       False, False, False, False, False, False, False, False, False,\n",
              "       False, False, False, False, False, False, False, False, False,\n",
              "       False, False, False, False, False, False, False, False, False,\n",
              "       False, False, False, False, False, False, False, False, False,\n",
              "       False, False, False, False, False, False, False, False, False,\n",
              "       False, False, False, False, False, False, False, False, False,\n",
              "       False, False, False, False, False, False, False, False, False,\n",
              "       False, False, False, False, False, False, False, False, False,\n",
              "       False, False, False, False, False, False, False, False, False,\n",
              "       False, False, False, False, False, False, False, False, False,\n",
              "       False, False, False, False, False, False, False, False, False,\n",
              "       False, False, False, False, False, False, False, False, False,\n",
              "       False, False, False, False, False, False, False, False, False,\n",
              "       False, False, False, False, False, False, False, False, False,\n",
              "       False, False, False, False, False, False, False, False, False,\n",
              "       False, False, False, False, False, False, False, False, False,\n",
              "       False, False, False, False, False, False, False, False, False,\n",
              "       False, False, False, False, False, False, False, False, False,\n",
              "       False, False, False, False, False, False, False, False, False,\n",
              "       False, False, False, False,  True, False, False, False, False,\n",
              "       False, False, False, False, False, False,  True,  True, False,\n",
              "        True,  True,  True, False, False, False, False, False, False,\n",
              "       False, False, False, False, False, False, False, False, False,\n",
              "       False, False, False, False, False, False, False, False, False,\n",
              "       False, False, False, False, False, False, False, False, False,\n",
              "       False, False, False, False, False, False, False, False, False,\n",
              "       False, False, False, False, False, False, False, False, False,\n",
              "       False, False, False, False, False, False, False, False, False,\n",
              "       False, False, False, False, False, False, False, False, False,\n",
              "       False, False, False, False, False, False, False, False, False,\n",
              "       False, False, False, False, False, False, False, False, False,\n",
              "       False, False, False, False, False, False, False, False, False,\n",
              "       False, False, False, False, False, False, False, False, False,\n",
              "       False, False, False, False, False, False, False, False, False,\n",
              "       False, False, False, False, False, False, False, False, False,\n",
              "       False, False, False, False, False, False, False, False, False,\n",
              "       False, False, False, False, False, False, False, False, False,\n",
              "       False, False, False, False, False, False, False, False, False,\n",
              "       False, False, False, False, False, False, False, False, False,\n",
              "       False, False, False, False, False, False, False, False, False,\n",
              "       False, False, False, False, False, False, False, False, False,\n",
              "       False, False, False, False, False, False, False, False, False,\n",
              "       False, False, False, False, False, False, False, False, False,\n",
              "       False, False, False, False, False, False, False, False, False,\n",
              "       False, False, False, False, False, False, False, False, False,\n",
              "       False, False, False, False, False, False, False, False, False,\n",
              "       False, False, False, False, False,  True,  True,  True,  True,\n",
              "        True,  True,  True,  True,  True,  True,  True,  True,  True,\n",
              "        True,  True,  True,  True, False, False, False,  True, False,\n",
              "       False, False,  True,  True,  True,  True,  True,  True,  True,\n",
              "        True,  True,  True, False, False, False, False, False, False,\n",
              "       False, False, False, False, False, False, False, False, False,\n",
              "       False, False, False, False, False, False, False, False, False,\n",
              "       False, False, False, False, False, False, False, False, False,\n",
              "       False,  True,  True,  True,  True,  True,  True,  True,  True,\n",
              "        True,  True,  True,  True,  True,  True,  True, False,  True,\n",
              "        True,  True,  True,  True,  True,  True,  True,  True,  True,\n",
              "        True,  True,  True,  True,  True,  True,  True,  True,  True,\n",
              "        True,  True,  True,  True,  True,  True,  True,  True,  True,\n",
              "        True,  True,  True,  True,  True,  True,  True,  True,  True,\n",
              "        True,  True,  True,  True,  True,  True,  True,  True,  True,\n",
              "        True,  True,  True,  True,  True,  True,  True,  True,  True,\n",
              "        True,  True,  True,  True,  True,  True,  True,  True,  True,\n",
              "        True,  True,  True,  True,  True,  True,  True,  True, False,\n",
              "       False, False, False, False,  True,  True,  True,  True,  True,\n",
              "        True,  True, False, False, False, False, False, False, False,\n",
              "       False, False, False, False, False, False, False, False])"
            ]
          },
          "execution_count": 14,
          "metadata": {},
          "output_type": "execute_result"
        }
      ]
    },
    {
      "cell_type": "code",
      "metadata": {
        "colab": {
          "base_uri": "https://localhost:8080/"
        },
        "id": "2_rVfmkr6CXI",
        "outputId": "6204eb51-9493-43ee-8620-e0ee71b952c4"
      },
      "source": [
        "# mascara todos os valores que não atendem a uma condição\n",
        "np.ma.masked_where(ibov <= ibov.mean(), ibov)"
      ],
      "execution_count": null,
      "outputs": [
        {
          "data": {
            "text/plain": [
              "masked_array(data=[--, --, --, --, --, --, --, --, --, --, --, --, --, --,\n",
              "                   --, --, --, --, --, --, --, --, --, --, --, --, --, --,\n",
              "                   --, --, --, --, --, --, --, --, --, --, --, --, --, --,\n",
              "                   --, --, --, --, --, --, --, --, --, --, --, --, --, --,\n",
              "                   --, --, --, --, --, --, --, --, --, --, --, --, --, --,\n",
              "                   --, --, --, --, --, --, --, --, --, --, --, --, --, --,\n",
              "                   --, --, --, --, --, --, --, --, --, --, --, --, --, --,\n",
              "                   --, --, --, --, --, --, --, --, --, --, --, --, --, --,\n",
              "                   --, --, --, --, --, --, --, --, --, --, --, --, --, --,\n",
              "                   --, 105817.0, --, --, --, --, --, --, --, --, --, --,\n",
              "                   --, --, --, --, --, --, --, --, --, --, --, --, --, --,\n",
              "                   --, --, --, --, --, --, --, --, --, --, --, --, --, --,\n",
              "                   --, --, --, --, --, --, --, --, --, --, --, --, --, --,\n",
              "                   --, --, --, 105319.0, --, --, --, --, --, --, --, --,\n",
              "                   --, --, --, --, --, 105423.0, --, --, 106022.0,\n",
              "                   107381.0, 107544.0, 106986.0, 107364.0, 108187.0,\n",
              "                   107556.0, 108408.0, 107220.0, 108196.0, 108601.0,\n",
              "                   108451.0, 108336.0, 109581.0, 107629.0, 108215.0,\n",
              "                   106785.0, 105914.0, 106557.0, 106347.0, 105618.0,\n",
              "                   107497.0, 108692.0, 108424.0, 107059.0, 107708.0,\n",
              "                   108290.0, 108233.0, 109061.0, 108956.0, 110301.0,\n",
              "                   110622.0, 111126.0, 110977.0, 110672.0, 110964.0,\n",
              "                   112200.0, 112565.0, 111896.0, 112616.0, 114315.0,\n",
              "                   115131.0, 115121.0, 115863.0, 117203.0, 116534.0,\n",
              "                   115964.0, 118573.0, 117707.0, 116878.0, 116662.0,\n",
              "                   116247.0, 115947.0, 115503.0, 117325.0, 117632.0,\n",
              "                   116414.0, 116704.0, 118478.0, 118862.0, 117026.0,\n",
              "                   118391.0, 119528.0, 118376.0, 114482.0, 116479.0,\n",
              "                   115385.0, 115528.0, 113761.0, 114629.0, 115557.0,\n",
              "                   116028.0, 115190.0, 113770.0, 112570.0, 115371.0,\n",
              "                   116674.0, 115662.0, 114381.0, 115309.0, 114977.0,\n",
              "                   116518.0, 114586.0, 113681.0, --, --, 106625.0,\n",
              "                   105537.0, 107224.0, --, --, --, --, --, --, --, --, --,\n",
              "                   --, --, --, --, --, --, --, --, --, --, --, --, --, --,\n",
              "                   --, --, --, --, --, --, --, --, --, --, --, --, --, --,\n",
              "                   --, --, --, --, --, --, --, --, --, --, --, --, --, --,\n",
              "                   --, --, --, --, --, --, --, --, --, --, --, --, --, --,\n",
              "                   --, --, --, --, --, --, --, --, --, --, --, --, --, --,\n",
              "                   --, --, --, --, --, --, --, --, --, --, --, --, --, --,\n",
              "                   --, --, --, --, --, --, --, 105605.0, --, --, --, --,\n",
              "                   --, --, --, --, --, --, --, --, --, --, --, --, --, --,\n",
              "                   --, --, --, --, --, --, --, --, --, --, --, --, --, --,\n",
              "                   --, --, --, --, --, --, --, --, --, --, --, --, --, --,\n",
              "                   --, --, --, --, --, --, --, --, --, --, --, --, --, --,\n",
              "                   --, --, --, --, --, --, --, --, --, --, 105351.0, --,\n",
              "                   --, --, 106430.0, 107229.0, 106483.0, 106517.0,\n",
              "                   107379.0, 109786.0, 110133.0, 110227.0, 110575.0,\n",
              "                   108888.0, 111335.0, 111814.0, 112919.0, 113682.0,\n",
              "                   113625.0, 113571.0, 112722.0, 114992.0, 115323.0,\n",
              "                   114975.0, 116146.0, 117947.0, 118157.0, 117679.0,\n",
              "                   116016.0, 116348.0, 117857.0, 119051.0, 119475.0,\n",
              "                   119306.0, 118558.0, 119223.0, 119851.0, 121956.0,\n",
              "                   125077.0, 122807.0, 123998.0, 122040.0, 123481.0,\n",
              "                   120502.0, 121242.0, 120673.0, 119708.0, 118443.0,\n",
              "                   117172.0, 116464.0, 115882.0, 119314.0, 116007.0,\n",
              "                   117365.0, 118234.0, 119725.0, 119261.0, 119925.0,\n",
              "                   119516.0, 119429.0, 118430.0, 119235.0, 119116.0,\n",
              "                   119140.0, 118748.0, 112668.0, 115227.0, 115668.0,\n",
              "                   112256.0, 110035.0, 110335.0, 111540.0, 111184.0,\n",
              "                   112690.0, 115202.0, 110612.0, 111331.0, 112776.0,\n",
              "                   114984.0, 114160.0, 114851.0, 114019.0, 116549.0,\n",
              "                   114835.0, 116222.0, 114979.0, 113262.0, 112064.0,\n",
              "                   113750.0, 114781.0, 115419.0, 116850.0, 116634.0,\n",
              "                   115253.0, 117518.0, 117499.0, 117624.0, 118313.0,\n",
              "                   117670.0, 118812.0, 119297.0, 120295.0, 120701.0,\n",
              "                   121114.0, 120934.0, 120062.0, 119371.0, 120530.0,\n",
              "                   120595.0, 119388.0, 121053.0, 120066.0, 118894.0,\n",
              "                   119209.0, 117712.0, 119564.0, 119921.0, 122038.0,\n",
              "                   121909.0, 122964.0, 119710.0, 120706.0, 121881.0,\n",
              "                   122938.0, 122980.0, 122636.0, 122701.0, 122592.0,\n",
              "                   124032.0, 122988.0, 123989.0, 124367.0, 125561.0,\n",
              "                   126216.0, 128267.0, 129601.0, 130126.0, 130776.0,\n",
              "                   129787.0, 129907.0, 130076.0, 129441.0, 130208.0,\n",
              "                   130091.0, 129259.0, 128057.0, 128405.0, 129265.0,\n",
              "                   128767.0, 128428.0, 129514.0, 127256.0, 127429.0,\n",
              "                   127327.0, 126802.0, 125666.0, 127622.0, 126920.0,\n",
              "                   125095.0, 127019.0, 125428.0, 127594.0, 128168.0,\n",
              "                   128407.0, 127468.0, 125960.0, 124395.0, 125401.0,\n",
              "                   125929.0, 126147.0, 125053.0, 126004.0, 124612.0,\n",
              "                   126286.0, 125675.0, 121801.0, 122516.0, 123577.0,\n",
              "                   121801.0, 121633.0, 122810.0, 123019.0, 122202.0,\n",
              "                   122056.0, 120701.0, 121194.0, 119180.0, 117904.0,\n",
              "                   116643.0, 117165.0, 118053.0, 117472.0, 120211.0,\n",
              "                   120818.0, 118724.0, 120678.0, 119740.0, 118781.0,\n",
              "                   119396.0, 116677.0, 116933.0, 117869.0, 113413.0,\n",
              "                   115361.0, 114286.0, 116404.0, 116181.0, 115063.0,\n",
              "                   113794.0, 111439.0, 108844.0, 110250.0, 112282.0,\n",
              "                   114064.0],\n",
              "             mask=[ True,  True,  True,  True,  True,  True,  True,  True,\n",
              "                    True,  True,  True,  True,  True,  True,  True,  True,\n",
              "                    True,  True,  True,  True,  True,  True,  True,  True,\n",
              "                    True,  True,  True,  True,  True,  True,  True,  True,\n",
              "                    True,  True,  True,  True,  True,  True,  True,  True,\n",
              "                    True,  True,  True,  True,  True,  True,  True,  True,\n",
              "                    True,  True,  True,  True,  True,  True,  True,  True,\n",
              "                    True,  True,  True,  True,  True,  True,  True,  True,\n",
              "                    True,  True,  True,  True,  True,  True,  True,  True,\n",
              "                    True,  True,  True,  True,  True,  True,  True,  True,\n",
              "                    True,  True,  True,  True,  True,  True,  True,  True,\n",
              "                    True,  True,  True,  True,  True,  True,  True,  True,\n",
              "                    True,  True,  True,  True,  True,  True,  True,  True,\n",
              "                    True,  True,  True,  True,  True,  True,  True,  True,\n",
              "                    True,  True,  True,  True,  True,  True,  True,  True,\n",
              "                    True,  True,  True,  True,  True,  True,  True, False,\n",
              "                    True,  True,  True,  True,  True,  True,  True,  True,\n",
              "                    True,  True,  True,  True,  True,  True,  True,  True,\n",
              "                    True,  True,  True,  True,  True,  True,  True,  True,\n",
              "                    True,  True,  True,  True,  True,  True,  True,  True,\n",
              "                    True,  True,  True,  True,  True,  True,  True,  True,\n",
              "                    True,  True,  True,  True,  True,  True,  True,  True,\n",
              "                    True,  True,  True,  True,  True,  True,  True, False,\n",
              "                    True,  True,  True,  True,  True,  True,  True,  True,\n",
              "                    True,  True,  True,  True,  True, False,  True,  True,\n",
              "                   False, False, False, False, False, False, False, False,\n",
              "                   False, False, False, False, False, False, False, False,\n",
              "                   False, False, False, False, False, False, False, False,\n",
              "                   False, False, False, False, False, False, False, False,\n",
              "                   False, False, False, False, False, False, False, False,\n",
              "                   False, False, False, False, False, False, False, False,\n",
              "                   False, False, False, False, False, False, False, False,\n",
              "                   False, False, False, False, False, False, False, False,\n",
              "                   False, False, False, False, False, False, False, False,\n",
              "                   False, False, False, False, False, False, False, False,\n",
              "                   False, False, False, False,  True,  True, False, False,\n",
              "                   False,  True,  True,  True,  True,  True,  True,  True,\n",
              "                    True,  True,  True,  True,  True,  True,  True,  True,\n",
              "                    True,  True,  True,  True,  True,  True,  True,  True,\n",
              "                    True,  True,  True,  True,  True,  True,  True,  True,\n",
              "                    True,  True,  True,  True,  True,  True,  True,  True,\n",
              "                    True,  True,  True,  True,  True,  True,  True,  True,\n",
              "                    True,  True,  True,  True,  True,  True,  True,  True,\n",
              "                    True,  True,  True,  True,  True,  True,  True,  True,\n",
              "                    True,  True,  True,  True,  True,  True,  True,  True,\n",
              "                    True,  True,  True,  True,  True,  True,  True,  True,\n",
              "                    True,  True,  True,  True,  True,  True,  True,  True,\n",
              "                    True,  True,  True,  True,  True,  True,  True,  True,\n",
              "                    True,  True,  True,  True,  True, False,  True,  True,\n",
              "                    True,  True,  True,  True,  True,  True,  True,  True,\n",
              "                    True,  True,  True,  True,  True,  True,  True,  True,\n",
              "                    True,  True,  True,  True,  True,  True,  True,  True,\n",
              "                    True,  True,  True,  True,  True,  True,  True,  True,\n",
              "                    True,  True,  True,  True,  True,  True,  True,  True,\n",
              "                    True,  True,  True,  True,  True,  True,  True,  True,\n",
              "                    True,  True,  True,  True,  True,  True,  True,  True,\n",
              "                    True,  True,  True,  True,  True,  True,  True,  True,\n",
              "                    True,  True,  True,  True, False,  True,  True,  True,\n",
              "                   False, False, False, False, False, False, False, False,\n",
              "                   False, False, False, False, False, False, False, False,\n",
              "                   False, False, False, False, False, False, False, False,\n",
              "                   False, False, False, False, False, False, False, False,\n",
              "                   False, False, False, False, False, False, False, False,\n",
              "                   False, False, False, False, False, False, False, False,\n",
              "                   False, False, False, False, False, False, False, False,\n",
              "                   False, False, False, False, False, False, False, False,\n",
              "                   False, False, False, False, False, False, False, False,\n",
              "                   False, False, False, False, False, False, False, False,\n",
              "                   False, False, False, False, False, False, False, False,\n",
              "                   False, False, False, False, False, False, False, False,\n",
              "                   False, False, False, False, False, False, False, False,\n",
              "                   False, False, False, False, False, False, False, False,\n",
              "                   False, False, False, False, False, False, False, False,\n",
              "                   False, False, False, False, False, False, False, False,\n",
              "                   False, False, False, False, False, False, False, False,\n",
              "                   False, False, False, False, False, False, False, False,\n",
              "                   False, False, False, False, False, False, False, False,\n",
              "                   False, False, False, False, False, False, False, False,\n",
              "                   False, False, False, False, False, False, False, False,\n",
              "                   False, False, False, False, False, False, False, False,\n",
              "                   False, False, False, False, False, False, False, False,\n",
              "                   False, False, False, False, False, False, False, False,\n",
              "                   False, False, False, False, False, False, False, False,\n",
              "                   False, False, False, False, False, False, False, False,\n",
              "                   False, False],\n",
              "       fill_value=1e+20)"
            ]
          },
          "execution_count": 35,
          "metadata": {},
          "output_type": "execute_result"
        }
      ]
    },
    {
      "cell_type": "markdown",
      "metadata": {
        "id": "ON3ABW1_L9_2"
      },
      "source": [
        "###**11. Aplicabilidade Prática**"
      ]
    },
    {
      "cell_type": "code",
      "metadata": {
        "id": "PxfUEJJe6llG"
      },
      "source": [
        "def media_movel(seu_array, n=5):\n",
        "    valores = np.cumsum(seu_array, dtype=float)\n",
        "    valores[n:] = valores[n:] - valores[:-n]\n",
        "    return valores[n-1:] / n"
      ],
      "execution_count": null,
      "outputs": []
    },
    {
      "cell_type": "code",
      "metadata": {
        "id": "a_8mWWcI6mjV"
      },
      "source": [
        "# Definição do valor da média móvel\n",
        "p = 200"
      ],
      "execution_count": null,
      "outputs": []
    },
    {
      "cell_type": "code",
      "metadata": {
        "colab": {
          "base_uri": "https://localhost:8080/",
          "height": 421
        },
        "id": "kSKmCBYJ63Zl",
        "outputId": "7826011d-2d33-49fb-ce04-b7502311c6e6"
      },
      "source": [
        "# criando gráfico com as informações\n",
        "import matplotlib.pyplot as plt\n",
        "%matplotlib inline\n",
        "\n",
        "# Deixando o gráfico um pouco mais complexo\n",
        "mm_ibov = media_movel(ibov, p)\n",
        "\n",
        "# Ajustando o tamanho do gráfico\n",
        "plt.figure( figsize=(14,6) )\n",
        "\n",
        "# Atributos\n",
        "# Média móvel dos preços\n",
        "plt.plot(mm_ibov,\n",
        "         'b--',\n",
        "         label=\"Média Móvel - {}p\".format(p))\n",
        "\n",
        "# Preço do Bitcoin\n",
        "plt.plot(ibov[(p-1):],\n",
        "         'black',\n",
        "         label=\"IBOV\")\n",
        "\n",
        "# Plot condicional - muda a cor dada uma certa condição\n",
        "ibov_under_mm = np.ma.masked_where(mm_ibov <= ibov[(p-1):], ibov[(p-1):])\n",
        "ibov_above_mm = np.ma.masked_where(mm_ibov > ibov[(p-1):], ibov[(p-1):])\n",
        "\n",
        "plt.plot(ibov_under_mm,\n",
        "         'r',\n",
        "         linewidth=2)\n",
        "plt.plot(ibov_above_mm,\n",
        "         'g',\n",
        "         linewidth=2)\n",
        "\n",
        "#Configurações de exibição\n",
        "plt.title(\"Valor do IBOV de 2019 a 2021\")\n",
        "plt.xlabel(\"Periodo\")\n",
        "plt.ylabel(\"Preço\")\n",
        "plt.grid()\n",
        "plt.legend()"
      ],
      "execution_count": null,
      "outputs": [
        {
          "data": {
            "text/plain": [
              "<matplotlib.legend.Legend at 0x7f5bcce67510>"
            ]
          },
          "execution_count": 9,
          "metadata": {},
          "output_type": "execute_result"
        },
        {
          "data": {
            "image/png": "[encoded data removed]",
            "text/plain": [
              "<Figure size 1008x432 with 1 Axes>"
            ]
          },
          "metadata": {},
          "output_type": "display_data"
        }
      ]
    }
  ]
}