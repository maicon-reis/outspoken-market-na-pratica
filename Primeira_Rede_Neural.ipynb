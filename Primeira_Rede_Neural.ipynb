{
  "nbformat": 4,
  "nbformat_minor": 0,
  "metadata": {
    "colab": {
      "name": "Primeira Rede Neural.ipynb",
      "provenance": [],
      "authorship_tag": "ABX9TyOXcuXaC/nFtsQDdIUb2ChC",
      "include_colab_link": true
    },
    "kernelspec": {
      "name": "python3",
      "display_name": "Python 3"
    },
    "language_info": {
      "name": "python"
    }
  },
  "cells": [
    {
      "cell_type": "markdown",
      "metadata": {
        "id": "view-in-github",
        "colab_type": "text"
      },
      "source": [
        "<a href=\"https://colab.research.google.com/github/maicon-reis/outspoken-market-na-pratica/blob/main/Primeira_Rede_Neural.ipynb\" target=\"_parent\"><img src=\"https://colab.research.google.com/assets/colab-badge.svg\" alt=\"Open In Colab\"/></a>"
      ]
    },
    {
      "cell_type": "markdown",
      "metadata": {
        "id": "2COdXPLxIqbM"
      },
      "source": [
        "<h1>Primeira Rede Neural</h1>\n",
        "\n",
        "<p>Esse notebook serve para exemplificar como, em poucas linhas de código é possível construir uma rede neural. O objetivo inicial é solidificar conceitos de matrizes e utilização de funções do numpy.</p>\n",
        "\n",
        "<p>Será construída uma rede neural com objetivo de gerar uma tabela verdade utilizando uma rede neural simples.</p>\n",
        "\n",
        "<img src=\"https://encrypted-tbn0.gstatic.com/images?q=tbn:ANd9GcQ7UHiT3rqO9k8eqxKk8R-P49vN9C-J94yn9A&usqp=CAU\"/>\n"
      ]
    },
    {
      "cell_type": "code",
      "metadata": {
        "id": "3S6NGeG8I7RX"
      },
      "source": [
        "# importando as bibliotecas utilizadas\n",
        "import random\n",
        "import numpy as np"
      ],
      "execution_count": null,
      "outputs": []
    },
    {
      "cell_type": "code",
      "metadata": {
        "id": "v_MwUCNGJZL4"
      },
      "source": [
        "# Mantendo a reprodutibilidade do código quando trabalhamos com funções aleatórias.\n",
        "random.seed(42)"
      ],
      "execution_count": null,
      "outputs": []
    },
    {
      "cell_type": "code",
      "metadata": {
        "id": "tNpHcCOoJiRY"
      },
      "source": [
        "# Criando as matrizes de entrada e saída.\n",
        "# Ou seja, será criada a tabela verdade da função lógica and (e)\n",
        "entradas = np.array([[0, 0],\n",
        "                     [0, 1],\n",
        "                     [1, 0],\n",
        "                     [1, 1]])\n",
        "saidas = np.array([[1],\n",
        "                   [0],\n",
        "                   [0],\n",
        "                   [1]])"
      ],
      "execution_count": null,
      "outputs": []
    },
    {
      "cell_type": "markdown",
      "metadata": {
        "id": "ONjeDu3RMWQU"
      },
      "source": [
        "<img src=\"https://www.deeplearningbook.com.br/wp-content/uploads/2017/12/neuronio-1.png\" width=500 height=250/>"
      ]
    },
    {
      "cell_type": "code",
      "metadata": {
        "id": "Ql4wVhJvKLBM"
      },
      "source": [
        "# cria as matrizes de pesos da rede neural - w\n",
        "# A função random cria números aleatórios entre os valores mínimos e máximo estipulados\n",
        "w1 = 2 * np.random.random((2,4)) - 1\n",
        "w2 = 2 * np.random.random((4,1)) - 1"
      ],
      "execution_count": null,
      "outputs": []
    },
    {
      "cell_type": "code",
      "metadata": {
        "id": "kk8SLzk7La6r"
      },
      "source": [
        "# Trinamento da rede neural\n",
        "for _ in range(1000000):\n",
        "    camada1 = 1 / ( 1 + np.exp(-(np.dot(entradas, w1))))\n",
        "    camada2 = 1 / ( 1 + np.exp(-(np.dot(camada1, w2))))\n",
        "    camada2_delta = (saidas - camada2) * (camada2 * (1 - camada2))\n",
        "    camada1_delta = camada2_delta.dot(w2.T) *(camada1 * (1 - camada1))\n",
        "    w2 += camada1.T.dot(camada2_delta)\n",
        "    w1 += entradas.T.dot(camada1_delta)"
      ],
      "execution_count": null,
      "outputs": []
    },
    {
      "cell_type": "code",
      "metadata": {
        "colab": {
          "base_uri": "https://localhost:8080/"
        },
        "id": "0HDyZrcYNdCB",
        "outputId": "b0eb8e49-7e9c-46bd-decd-934fd046c1ff"
      },
      "source": [
        "# Verificando a saída da rede\n",
        "camada2.round()"
      ],
      "execution_count": null,
      "outputs": [
        {
          "output_type": "execute_result",
          "data": {
            "text/plain": [
              "array([[1.],\n",
              "       [0.],\n",
              "       [0.],\n",
              "       [1.]])"
            ]
          },
          "metadata": {},
          "execution_count": 18
        }
      ]
    }
  ]
}