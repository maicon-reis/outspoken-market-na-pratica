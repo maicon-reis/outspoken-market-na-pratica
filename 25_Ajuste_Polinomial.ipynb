{
  "nbformat": 4,
  "nbformat_minor": 0,
  "metadata": {
    "colab": {
      "name": "25. Ajuste Polinomial.ipynb",
      "private_outputs": true,
      "provenance": [],
      "authorship_tag": "ABX9TyNB6jone/wG4/vEvylubwH6",
      "include_colab_link": true
    },
    "kernelspec": {
      "name": "python3",
      "display_name": "Python 3"
    },
    "language_info": {
      "name": "python"
    }
  },
  "cells": [
    {
      "cell_type": "markdown",
      "metadata": {
        "id": "view-in-github",
        "colab_type": "text"
      },
      "source": [
        "<a href=\"https://colab.research.google.com/github/maicon-reis/outspoken-market-na-pratica/blob/main/25_Ajuste_Polinomial.ipynb\" target=\"_parent\"><img src=\"https://colab.research.google.com/assets/colab-badge.svg\" alt=\"Open In Colab\"/></a>"
      ]
    },
    {
      "cell_type": "code",
      "execution_count": null,
      "metadata": {
        "id": "zs0ToOvNofAI"
      },
      "outputs": [],
      "source": [
        "!pip install -q yfinance"
      ]
    },
    {
      "cell_type": "code",
      "source": [
        "# Carregando as bibliotecas\n",
        "import pandas as pd\n",
        "import numpy as np\n",
        "import matplotlib.pyplot as plt\n",
        "from sklearn.metrics import classification_report, confusion_matrix, r2_score\n",
        "from sympy import S, symbols, printing\n",
        "import sklearn.metrics as metrics\n",
        "import yfinance as yf\n",
        "import warnings\n",
        "import datetime as dt\n",
        "warnings.filterwarnings(\"ignore\")"
      ],
      "metadata": {
        "id": "pbi44vKIoieF"
      },
      "execution_count": null,
      "outputs": []
    },
    {
      "cell_type": "code",
      "source": [
        "# Função que cria a variável IFR\n",
        "def criaIFR(data, p_rsi = 14):\n",
        "    #\n",
        "    # Essa função cria uma nova variável, IFR, e retorna o dataframe recebido\n",
        "    # acrescido da variável criada.\n",
        "    # Parâmetros de entrada:\n",
        "    #   data -> Dataframe contendo as colunas de origem e as variáveis criadas.\n",
        "    #   p_rsi -> Inteiro correspondendo ao período utilizado para criar a  \n",
        "    #            variável.\n",
        "    # Return:\n",
        "    #   A função retorna o dataframe data acrescido da coluna ifr.\n",
        "    #\n",
        "    data['delta'] = data['Adj Close'].diff()\n",
        "    data.dropna(inplace=True)\n",
        "    data.loc[:, 'positivos'] = np.where(data['delta'] < 0, 0, data['delta'])\n",
        "    data.loc[:, 'negativos'] = np.where(data['delta'] > 0, 0, data['delta'])\n",
        "    data['mediaPos'] = data['positivos'].rolling(window=p_rsi).mean()\n",
        "    data['mediaNeg'] = abs(data['negativos'].rolling(window=p_rsi).mean())\n",
        "    data.dropna(inplace=True)\n",
        "    data['fr'] = data['mediaPos'] / data['mediaNeg']\n",
        "    data['ifr'] = 100.00 - (100.0 / (1.0 + data['fr']))\n",
        "    data.drop(['delta', 'positivos', 'negativos', 'mediaPos', 'mediaNeg', 'fr'], axis=1,\n",
        "              inplace=True)\n",
        "\n",
        "    return data"
      ],
      "metadata": {
        "id": "0ptSuudPvsFw"
      },
      "execution_count": null,
      "outputs": []
    },
    {
      "cell_type": "code",
      "source": [
        "# Importando a base de dados da biblioteca Yfinance\n",
        "ativo = \"VALE3.SA\"\n",
        "inicio = \"2000-01-02\"\n",
        "fim = dt.datetime.today()\n",
        "df = yf.download(ativo, data_source = \"yahoo\", start = inicio, end = fim)\n",
        "df.head()"
      ],
      "metadata": {
        "id": "y_BrYiN7pJ_V"
      },
      "execution_count": null,
      "outputs": []
    },
    {
      "cell_type": "code",
      "source": [
        "# Criando coluna  de Retorno e Alvo\n",
        "p = 5\n",
        "p_alvo = 0.0025 #0.25%\n",
        "\n",
        "# Construção dos alvos\n",
        "# Alvo - Retorno\n",
        "df['Retorno'] = df['Adj Close'].pct_change(p)\n",
        "df['Alvo'] = df['Retorno'].shift(-p)\n",
        "df['Alvo_cat'] = np.where(df['Alvo'] > p_alvo, 1\n",
        "                          , np.where(df['Alvo'] < -p_alvo, -1, 0))"
      ],
      "metadata": {
        "id": "RoRupjFMqOlC"
      },
      "execution_count": null,
      "outputs": []
    },
    {
      "cell_type": "code",
      "source": [
        "# Criando variáveis que serão utilizadas\n",
        "p_mm = 21\n",
        "df['mm'] = df['Adj Close'].rolling(p_mm).mean() # cria média móvel\n",
        "df['dist_mm'] = round((df['Adj Close']/df['mm']-1), 3) # distância do preço para a média\n",
        "df = criaIFR(df) # Calcula o ifr\n",
        "df['ifr_mm'] = round(df['dist_mm']*df['ifr'], 3) # ifr ponderado da média móvel\n",
        "\n",
        "# Visualizando os dados\n",
        "df.head()"
      ],
      "metadata": {
        "id": "c_RD84P-tpnR"
      },
      "execution_count": null,
      "outputs": []
    },
    {
      "cell_type": "markdown",
      "source": [
        "### **Ajuste de Polinômios**\n",
        "\n",
        "O polinomio que será ajustado será o IFR pela distância da média, ou seja, o x será o IFR (```df[\"ifr\"]```) e y será a distância da média móvel em termos percentuais (```df[\"dist_mm\"] * 100```)."
      ],
      "metadata": {
        "id": "a0j7W74EGvao"
      }
    },
    {
      "cell_type": "code",
      "source": [
        "x = df['ifr']\n",
        "y = df['dist_mm'].values * 100"
      ],
      "metadata": {
        "id": "2gboPmTdG13w"
      },
      "execution_count": null,
      "outputs": []
    },
    {
      "cell_type": "markdown",
      "source": [
        "A utilização da função numpy ```polyfit``` realiza o ajusto polinomial minimizando os erros quadrados.\n",
        "\n",
        "$$E=\\sum_{j=0}^k|p(x_j)-y_j|^2$$\n",
        "\n",
        "A função recebe, dentre os parâmetros, dois arrays ```x``` e ```y```, correspondendo às variáveis dependentes e independentes e deg, grau de polinomial que se deseja ajustar.\n",
        "\n",
        "A utilização dessa função retorna um vetor de coeficientes do polinômio ```p``` que minimiza o erro quadrado na ordem indicada.\n",
        "\n",
        "Já a função numpy ```poly1d``` é usda para construir a equação de ajuste polinomial.\n",
        "\n",
        "Esta função recebe os coeficientes do do polinômio."
      ],
      "metadata": {
        "id": "dxoPgQteH2Kv"
      }
    },
    {
      "cell_type": "code",
      "source": [
        "grau = 3\n",
        "ajuste = np.polyfit(x=x, y=y, deg=grau) # ajusta o polinômio para reduzir o erro\n",
        "polinomio = np.poly1d(ajuste) # serve para construir o polinômio\n",
        "print(\"{}\".format(polinomio)) # Visualizando a equação de ajuste polinomial"
      ],
      "metadata": {
        "id": "P0fDxUxMtm18"
      },
      "execution_count": null,
      "outputs": []
    },
    {
      "cell_type": "markdown",
      "source": [
        "### **Verificando o R2 para  a equação de ajuste polinomial**"
      ],
      "metadata": {
        "id": "uW5oRxpxKvmf"
      }
    },
    {
      "cell_type": "code",
      "source": [
        "R2 = round(r2_score(y, polinomio(x)), 3)\n",
        "print(\"R2 Ibov: {}\".format(R2))"
      ],
      "metadata": {
        "id": "yK8zfzNlHyem"
      },
      "execution_count": null,
      "outputs": []
    },
    {
      "cell_type": "code",
      "source": [
        "# Verificando o resultado da equação para 3 valores aleatórios\n",
        "print(\"Para IFR = 30, dist_mm = {}\".format(round(polinomio(30), 3)))\n",
        "print(\"Para IFR = 50, dist_mm = {}\".format(round(polinomio(50), 3)))\n",
        "print(\"Para IFR = 70, dist_mm = {}\".format(round(polinomio(70), 3)))"
      ],
      "metadata": {
        "id": "VgLs2p7ZQIE-"
      },
      "execution_count": null,
      "outputs": []
    },
    {
      "cell_type": "markdown",
      "source": [
        "### **Representando a Curva de Ajuste Polinomial**"
      ],
      "metadata": {
        "id": "6ndrZCAuK-Nd"
      }
    },
    {
      "cell_type": "code",
      "source": [
        "equacao = sum(S(\"{:.2E}\".format(v))*symbols(\"x\")**i for i, v in enumerate(ajuste[::-1]))\n",
        "eq_latex = printing.latex(equacao)\n",
        "print(eq_latex)"
      ],
      "metadata": {
        "id": "dwj1zPT3L5fS"
      },
      "execution_count": null,
      "outputs": []
    },
    {
      "cell_type": "code",
      "source": [
        "# plot do polinomio\n",
        "ref = np.linspace(min(x), max(x), len(x))\n",
        "\n",
        "with plt.style.context(\"fivethirtyeight\"):\n",
        "    plt.figure(figsize=(10,8))\n",
        "    plt.scatter(x, y, c=\"red\", label=\"IFR14 x Distância da Média\", s=9)\n",
        "    plt.plot(ref, polinomio(ref), linestyle=\"-\", lw=5, c=\"black\")\n",
        "    plt.xlabel(\"IFR 14\", fontsize=15)\n",
        "    plt.ylabel(\"Distância MM 21(%)\", fontsize=15)\n",
        "    plt.annotate(\"Equação: \"\"${}$\".format(eq_latex), (10,40))\n",
        "    plt.annotate(\"R2 =\" + str(R2), (10, 37))\n",
        "    plt.legend(fontsize=15)\n",
        "    plt.title(\"Curva Polinominal - IFR 14 X Distância da Média \\n Ibov\")"
      ],
      "metadata": {
        "id": "SbM-XOkTMCAh"
      },
      "execution_count": null,
      "outputs": []
    },
    {
      "cell_type": "markdown",
      "source": [
        "### **Trabalhando com os Resíduos**"
      ],
      "metadata": {
        "id": "vqGJaddSLdZe"
      }
    },
    {
      "cell_type": "code",
      "source": [
        "# Criando uma coluna contendo os resíduos da equação\n",
        "df['residuos'] = df['dist_mm'] * 100 - polinomio(df['ifr'])"
      ],
      "metadata": {
        "id": "NbqThRKNvs1e"
      },
      "execution_count": null,
      "outputs": []
    },
    {
      "cell_type": "markdown",
      "source": [
        "Associando a análise dos resíduos com um alvo categórico de 5 períodos, percebemos os resíduos representam uma reversão à média. Quando os resíduos forem superiores à "
      ],
      "metadata": {
        "id": "GgUk7vP9N06D"
      }
    },
    {
      "cell_type": "code",
      "source": [
        "pd.pivot_table(df, index=['Alvo_cat'], aggfunc = {\"residuos\": [np.median]})"
      ],
      "metadata": {
        "id": "p6qIdBNqMPKj"
      },
      "execution_count": null,
      "outputs": []
    },
    {
      "cell_type": "code",
      "source": [
        "df['residuo_cat'] = np.where(df['residuos'].between(0.031428, 0.086636), -1\n",
        "                             , np.where(df['residuos'] < -0.098292, 1, 0))\n",
        "\n",
        "print(confusion_matrix(df['Alvo_cat'], df['residuo_cat']))\n",
        "print()\n",
        "print('------------------------------------------------------------------')\n",
        "print(classification_report(df['Alvo_cat'], df['residuo_cat']))"
      ],
      "metadata": {
        "id": "jCsJB6V3NSfr"
      },
      "execution_count": null,
      "outputs": []
    }
  ]
}